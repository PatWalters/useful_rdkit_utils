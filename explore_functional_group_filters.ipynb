{
 "cells": [
  {
   "cell_type": "markdown",
   "metadata": {},
   "source": [
    "### Exploring Funcitonal Group Filters\n",
    "\n",
    "This notebook provides a simple tool for visualizing and exploring functional group filters. "
   ]
  },
  {
   "cell_type": "code",
   "execution_count": 61,
   "metadata": {
    "pycharm": {
     "name": "#%%\n"
    }
   },
   "outputs": [],
   "source": [
    "import useful_rdkit_utils as uru\n",
    "import pandas as pd\n",
    "import datamol as dm\n",
    "from ipywidgets import interact\n",
    "from tqdm.auto import tqdm"
   ]
  },
  {
   "cell_type": "markdown",
   "metadata": {},
   "source": [
    "Enable Pandas **progress_apply**"
   ]
  },
  {
   "cell_type": "code",
   "execution_count": 63,
   "metadata": {},
   "outputs": [],
   "source": [
    "tqdm.pandas()"
   ]
  },
  {
   "cell_type": "markdown",
   "metadata": {},
   "source": [
    "Instantiate a REOS object"
   ]
  },
  {
   "cell_type": "code",
   "execution_count": 73,
   "metadata": {
    "pycharm": {
     "name": "#%%\n"
    }
   },
   "outputs": [],
   "source": [
    "reos = uru.REOS('Glaxo')"
   ]
  },
  {
   "cell_type": "markdown",
   "metadata": {},
   "source": [
    "Look at which other rule sets are available"
   ]
  },
  {
   "cell_type": "code",
   "execution_count": 74,
   "metadata": {},
   "outputs": [
    {
     "data": {
      "text/plain": [
       "array(['Glaxo', 'Dundee', 'BMS', 'PAINS', 'SureChEMBL', 'MLSMR',\n",
       "       'Inpharmatica', 'LINT'], dtype=object)"
      ]
     },
     "execution_count": 74,
     "metadata": {},
     "output_type": "execute_result"
    }
   ],
   "source": [
    "reos.get_available_rule_sets()"
   ]
  },
  {
   "cell_type": "markdown",
   "metadata": {},
   "source": [
    "For the visualization we need the SMARTS.  Set the REOS object to return the SMARTS when we call **process_smarts** or **process_mol**."
   ]
  },
  {
   "cell_type": "code",
   "execution_count": 75,
   "metadata": {
    "pycharm": {
     "name": "#%%\n"
    }
   },
   "outputs": [],
   "source": [
    "reos.set_output_smarts(True)"
   ]
  },
  {
   "cell_type": "markdown",
   "metadata": {},
   "source": [
    "Read a file with drug molecules from ChEMBL.  We'll use this as demo input. "
   ]
  },
  {
   "cell_type": "code",
   "execution_count": 76,
   "metadata": {
    "pycharm": {
     "name": "#%%\n"
    }
   },
   "outputs": [],
   "source": [
    "df = pd.read_csv(\"https://raw.githubusercontent.com/PatWalters/datafiles/main/chembl_drugs.smi\", names=[\"SMILES\",\"Name\"],sep=\" \")"
   ]
  },
  {
   "cell_type": "markdown",
   "metadata": {},
   "source": [
    "Run the filters on the drug set. "
   ]
  },
  {
   "cell_type": "code",
   "execution_count": 77,
   "metadata": {
    "pycharm": {
     "name": "#%%\n"
    }
   },
   "outputs": [
    {
     "data": {
      "application/vnd.jupyter.widget-view+json": {
       "model_id": "29fb0ec1bb7440879922b08b48651424",
       "version_major": 2,
       "version_minor": 0
      },
      "text/plain": [
       "  0%|          | 0/1203 [00:00<?, ?it/s]"
      ]
     },
     "metadata": {},
     "output_type": "display_data"
    }
   ],
   "source": [
    "df[['rule_set','rule','smarts']] = df.SMILES.progress_apply(reos.process_smiles).tolist()"
   ]
  },
  {
   "cell_type": "markdown",
   "metadata": {},
   "source": [
    "Take a quick look at the results. "
   ]
  },
  {
   "cell_type": "code",
   "execution_count": 78,
   "metadata": {
    "pycharm": {
     "name": "#%%\n"
    }
   },
   "outputs": [
    {
     "data": {
      "text/html": [
       "<div>\n",
       "<style scoped>\n",
       "    .dataframe tbody tr th:only-of-type {\n",
       "        vertical-align: middle;\n",
       "    }\n",
       "\n",
       "    .dataframe tbody tr th {\n",
       "        vertical-align: top;\n",
       "    }\n",
       "\n",
       "    .dataframe thead th {\n",
       "        text-align: right;\n",
       "    }\n",
       "</style>\n",
       "<table border=\"1\" class=\"dataframe\">\n",
       "  <thead>\n",
       "    <tr style=\"text-align: right;\">\n",
       "      <th></th>\n",
       "      <th>SMILES</th>\n",
       "      <th>Name</th>\n",
       "      <th>rule_set</th>\n",
       "      <th>rule</th>\n",
       "      <th>smarts</th>\n",
       "    </tr>\n",
       "  </thead>\n",
       "  <tbody>\n",
       "    <tr>\n",
       "      <th>0</th>\n",
       "      <td>Nc1ccc(S(=O)(=O)Nc2ccccn2)cc1</td>\n",
       "      <td>CHEMBL700</td>\n",
       "      <td>ok</td>\n",
       "      <td>ok</td>\n",
       "      <td>ok</td>\n",
       "    </tr>\n",
       "    <tr>\n",
       "      <th>1</th>\n",
       "      <td>CCC(C)C1(CC)C(=O)[N-]C(=O)NC1=O.[Na+]</td>\n",
       "      <td>CHEMBL1200982</td>\n",
       "      <td>ok</td>\n",
       "      <td>ok</td>\n",
       "      <td>ok</td>\n",
       "    </tr>\n",
       "    <tr>\n",
       "      <th>2</th>\n",
       "      <td>Cl.N=C(N)N</td>\n",
       "      <td>CHEMBL1200728</td>\n",
       "      <td>ok</td>\n",
       "      <td>ok</td>\n",
       "      <td>ok</td>\n",
       "    </tr>\n",
       "    <tr>\n",
       "      <th>3</th>\n",
       "      <td>CC1=CC(=O)c2ccccc2C1=O</td>\n",
       "      <td>CHEMBL590</td>\n",
       "      <td>Glaxo</td>\n",
       "      <td>N1 Quinones</td>\n",
       "      <td>O=C1[#6]~[#6]C(=O)[#6]~[#6]1</td>\n",
       "    </tr>\n",
       "    <tr>\n",
       "      <th>4</th>\n",
       "      <td>Cn1c(=O)c2[nH]cnc2n(C)c1=O.Cn1c(=O)c2[nH]cnc2n...</td>\n",
       "      <td>CHEMBL1370561</td>\n",
       "      <td>ok</td>\n",
       "      <td>ok</td>\n",
       "      <td>ok</td>\n",
       "    </tr>\n",
       "    <tr>\n",
       "      <th>...</th>\n",
       "      <td>...</td>\n",
       "      <td>...</td>\n",
       "      <td>...</td>\n",
       "      <td>...</td>\n",
       "      <td>...</td>\n",
       "    </tr>\n",
       "    <tr>\n",
       "      <th>1198</th>\n",
       "      <td>Cl.Cl.N#Cc1cccc(C(NCC2CC2)c2ccc(F)c(NC(=O)c3cc...</td>\n",
       "      <td>CHEMBL4594272</td>\n",
       "      <td>ok</td>\n",
       "      <td>ok</td>\n",
       "      <td>ok</td>\n",
       "    </tr>\n",
       "    <tr>\n",
       "      <th>1199</th>\n",
       "      <td>CN1CCC(COc2cnc(-c3cccc(Cn4nc(-c5cccc(C#N)c5)cc...</td>\n",
       "      <td>CHEMBL4594292</td>\n",
       "      <td>ok</td>\n",
       "      <td>ok</td>\n",
       "      <td>ok</td>\n",
       "    </tr>\n",
       "    <tr>\n",
       "      <th>1200</th>\n",
       "      <td>Nc1ncn([C@@H]2O[C@H](CO)[C@@H](O)[C@H]2O)c(=O)n1</td>\n",
       "      <td>CHEMBL1489</td>\n",
       "      <td>ok</td>\n",
       "      <td>ok</td>\n",
       "      <td>ok</td>\n",
       "    </tr>\n",
       "    <tr>\n",
       "      <th>1201</th>\n",
       "      <td>COC(=O)Nc1c(N)nc(-c2nn(Cc3ccccc3F)c3ncc(F)cc23...</td>\n",
       "      <td>CHEMBL4066936</td>\n",
       "      <td>ok</td>\n",
       "      <td>ok</td>\n",
       "      <td>ok</td>\n",
       "    </tr>\n",
       "    <tr>\n",
       "      <th>1202</th>\n",
       "      <td>CONC(=O)Nc1ccc(-c2sc3c(c2CN(C)C)c(=O)n(-c2ccc(...</td>\n",
       "      <td>CHEMBL1800159</td>\n",
       "      <td>ok</td>\n",
       "      <td>ok</td>\n",
       "      <td>ok</td>\n",
       "    </tr>\n",
       "  </tbody>\n",
       "</table>\n",
       "<p>1203 rows × 5 columns</p>\n",
       "</div>"
      ],
      "text/plain": [
       "                                                 SMILES           Name  \\\n",
       "0                         Nc1ccc(S(=O)(=O)Nc2ccccn2)cc1      CHEMBL700   \n",
       "1                 CCC(C)C1(CC)C(=O)[N-]C(=O)NC1=O.[Na+]  CHEMBL1200982   \n",
       "2                                            Cl.N=C(N)N  CHEMBL1200728   \n",
       "3                                CC1=CC(=O)c2ccccc2C1=O      CHEMBL590   \n",
       "4     Cn1c(=O)c2[nH]cnc2n(C)c1=O.Cn1c(=O)c2[nH]cnc2n...  CHEMBL1370561   \n",
       "...                                                 ...            ...   \n",
       "1198  Cl.Cl.N#Cc1cccc(C(NCC2CC2)c2ccc(F)c(NC(=O)c3cc...  CHEMBL4594272   \n",
       "1199  CN1CCC(COc2cnc(-c3cccc(Cn4nc(-c5cccc(C#N)c5)cc...  CHEMBL4594292   \n",
       "1200   Nc1ncn([C@@H]2O[C@H](CO)[C@@H](O)[C@H]2O)c(=O)n1     CHEMBL1489   \n",
       "1201  COC(=O)Nc1c(N)nc(-c2nn(Cc3ccccc3F)c3ncc(F)cc23...  CHEMBL4066936   \n",
       "1202  CONC(=O)Nc1ccc(-c2sc3c(c2CN(C)C)c(=O)n(-c2ccc(...  CHEMBL1800159   \n",
       "\n",
       "     rule_set         rule                        smarts  \n",
       "0          ok           ok                            ok  \n",
       "1          ok           ok                            ok  \n",
       "2          ok           ok                            ok  \n",
       "3       Glaxo  N1 Quinones  O=C1[#6]~[#6]C(=O)[#6]~[#6]1  \n",
       "4          ok           ok                            ok  \n",
       "...       ...          ...                           ...  \n",
       "1198       ok           ok                            ok  \n",
       "1199       ok           ok                            ok  \n",
       "1200       ok           ok                            ok  \n",
       "1201       ok           ok                            ok  \n",
       "1202       ok           ok                            ok  \n",
       "\n",
       "[1203 rows x 5 columns]"
      ]
     },
     "execution_count": 78,
     "metadata": {},
     "output_type": "execute_result"
    }
   ],
   "source": [
    "df"
   ]
  },
  {
   "cell_type": "markdown",
   "metadata": {},
   "source": [
    "Summarize the data and put it into a list of lists that we'll use for the visualization. "
   ]
  },
  {
   "cell_type": "code",
   "execution_count": 79,
   "metadata": {
    "pycharm": {
     "name": "#%%\n"
    }
   },
   "outputs": [],
   "source": [
    "vc = df.query(\"rule != 'ok'\").rule.value_counts()\n",
    "rule_freq = vc.reset_index().values.tolist()\n",
    "rule_freq = [(f\"{a} ({b})\",[a,b]) for a,b in rule_freq]"
   ]
  },
  {
   "cell_type": "markdown",
   "metadata": {},
   "source": [
    "Set up the interactive visualization.  The trick here is setting up the **observe** method on the **rule_selector**, which contains the rules and the number of molecules matching the rule.  Every time the selection in **rule_selector** changes, we update the range for the **mol_selector** range slider below it. \n",
    "* Use the menu below to examine molecules matching specific functional group filters\n",
    "* Use the slider below the menu to examine specific molecules.  You can also click on the slider then use the left and right arrow keys to move through the molecules. "
   ]
  },
  {
   "cell_type": "code",
   "execution_count": 80,
   "metadata": {
    "pycharm": {
     "name": "#%%\n"
    }
   },
   "outputs": [
    {
     "data": {
      "application/vnd.jupyter.widget-view+json": {
       "model_id": "924cd38c217b48f191669893e01aa564",
       "version_major": 2,
       "version_minor": 0
      },
      "text/plain": [
       "interactive(children=(Dropdown(description='Rule:', layout=Layout(width='initial'), options=(('I16 Betalactams…"
      ]
     },
     "metadata": {},
     "output_type": "display_data"
    }
   ],
   "source": [
    "from ipywidgets import IntSlider, Dropdown\n",
    "\n",
    "rule_selector = Dropdown(layout={'width': 'initial'},options=rule_freq,\n",
    "                         description=\"Rule:\")\n",
    "mol_selector = IntSlider(min=0,max=rule_freq[0][1][1]-1)\n",
    "\n",
    "def update_slider_range(*args):\n",
    "    mol_selector.max = rule_selector.value[1]-1\n",
    "    if mol_selector.value != 0:\n",
    "        mol_selector.value = 0\n",
    "\n",
    "rule_selector.observe(update_slider_range,'value')\n",
    "\n",
    "def foo(x,y):\n",
    "    match_df = df.query(\"rule == @x\")\n",
    "    row = match_df.iloc[y]\n",
    "    return dm.viz.lasso_highlight_image(target_molecule=row.SMILES,search_molecules=row.smarts,use_svg=False)\n",
    "interact(foo,x=rule_selector, y=mol_selector);"
   ]
  }
 ],
 "metadata": {
  "kernelspec": {
   "display_name": "Python 3 (ipykernel)",
   "language": "python",
   "name": "python3"
  },
  "language_info": {
   "codemirror_mode": {
    "name": "ipython",
    "version": 3
   },
   "file_extension": ".py",
   "mimetype": "text/x-python",
   "name": "python",
   "nbconvert_exporter": "python",
   "pygments_lexer": "ipython3",
   "version": "3.10.6"
  }
 },
 "nbformat": 4,
 "nbformat_minor": 1
}
