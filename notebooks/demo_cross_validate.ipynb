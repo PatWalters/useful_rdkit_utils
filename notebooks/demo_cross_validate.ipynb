{
 "cells": [
  {
   "cell_type": "markdown",
   "id": "ed33b381",
   "metadata": {},
   "source": [
    "## One Cross-Validation Function to Rule Them All "
   ]
  },
  {
   "cell_type": "markdown",
   "id": "bdbb5664",
   "metadata": {},
   "source": [
    "To install:\n",
    "<pre>\n",
    "pip install rdkit useful_rdkit_utils lightgbm catboost scikit-learn pingouin scipy matplotlib numpy \n",
    "</pre>"
   ]
  },
  {
   "cell_type": "code",
   "execution_count": 1,
   "id": "94c201c4",
   "metadata": {},
   "outputs": [],
   "source": [
    "import pandas as pd\n",
    "import useful_rdkit_utils as uru\n",
    "from rdkit.Chem import rdFingerprintGenerator\n",
    "from sklearn.metrics import r2_score, mean_absolute_error\n",
    "from lgbm_wrapper import LGBMMorganCountWrapper\n",
    "from catboost_wrapper import CatBoostWrapper\n",
    "from rdkit import Chem\n",
    "from sort_and_slice_ecfp_featuriser import create_sort_and_slice_ecfp_featuriser\n",
    "import pingouin as pg\n",
    "from scipy.stats import ttest_ind\n",
    "import seaborn as sns\n",
    "import matplotlib.pyplot as plt\n",
    "import numpy as np\n",
    "from typing import List\n",
    "import warnings\n",
    "from collections import defaultdict"
   ]
  },
  {
   "cell_type": "markdown",
   "id": "da1aff7b",
   "metadata": {},
   "source": [
    "The **cross_validate** function provides a flexible means of running nested cross-validation experiments. It's easy to compare descriptors, machine learning models or combinations of the two.  The function allows facile incorporation of different splitting strategies.  Random, scaffold, and cluster splits are supported out of the box. Other strategies can be trivially incorporated. \n",
    "\n",
    "The function accepts a few arguments.  \n",
    "- **df** - A Pandas dataframe, the dataframe must have a SMILES column \n",
    "- **model_list** - a list of tuples where the first element is a string indicating the model name, and the second element is a function that returns a scikit-learn compatible model \n",
    "- **y_col** - the column in **df** with the y value for the model \n",
    "- **group_list** - a list of tuples where the first element contains the group name and the second argment is a function to calculate the groups.  This argument can be used to split according to groups (e.g. scaffold or cluster splitting).  To perform a random split, set each row in df to a unique value. \n",
    "- **n_outer** - the number of rounds of cross validation\n",
    "- **n_inner** - the number of folds to perform at each round \n",
    "\n",
    "The return value is a list of dictionaries that can be easily transformed into a Pandas dataframe.  More on this below. "
   ]
  },
  {
   "cell_type": "markdown",
   "id": "28ad00d5",
   "metadata": {},
   "source": [
    "Here's the docstring. "
   ]
  },
  {
   "cell_type": "code",
   "execution_count": 2,
   "id": "f49b4a11",
   "metadata": {},
   "outputs": [
    {
     "name": "stdout",
     "output_type": "stream",
     "text": [
      "Help on function cross_validate in module useful_rdkit_utils.split_utils:\n",
      "\n",
      "cross_validate(df: pandas.core.frame.DataFrame, model_list: List[Tuple[str, Callable[[str], object]]], y_col: str, group_list: List[Tuple[str, Callable[[pandas.core.series.Series], pandas.core.series.Series]]], n_outer: int = 5, n_inner: int = 5) -> List[dict]\n",
      "    Perform cross-validation on a dataset using multiple models and grouping strategies.\n",
      "    \n",
      "    :param df: The input dataframe containing the data.\n",
      "    :param model_list: A list of tuples where each tuple contains a model name and a callable that returns a model instance.\n",
      "    :param y_col: The name of the target column.\n",
      "    :param group_list: A list of tuples where each tuple contains a group name and a callable that assigns groups based on the SMILES column.\n",
      "    :param n_outer: The number of outer folds for cross-validation. Default is 5.\n",
      "    :param n_inner: The number of inner folds for cross-validation. Default is 5.\n",
      "    :return: A dataframe containing the metric values for each fold, model, and group.\n",
      "\n"
     ]
    }
   ],
   "source": [
    "help(uru.cross_validate)"
   ]
  },
  {
   "cell_type": "markdown",
   "id": "d73c905f",
   "metadata": {},
   "source": [
    "The best way to explain **cross_validate** is with an example.  Let's compare the Morgan counts fingerprint from the RDKit with the recently published [Sort and Slice fingerprint](https://arxiv.org/abs/2403.17954).  We'll examine the input argments one at a time. "
   ]
  },
  {
   "cell_type": "markdown",
   "id": "d1618559",
   "metadata": {},
   "source": [
    "### df - The input pandas DataFrame\n",
    "The input dataframe must have two components. \n",
    "- A SMILES column titled **SMILES**\n",
    "- A column with a y-value, this can have any name \n",
    "\n",
    "First we'll read in some data.  We'll use the solubility set from the [Biogen ADME datasets](https://github.com/molecularinformatics/Computational-ADME). "
   ]
  },
  {
   "cell_type": "code",
   "execution_count": 3,
   "id": "330aa101",
   "metadata": {},
   "outputs": [
    {
     "data": {
      "text/html": [
       "<div>\n",
       "<style scoped>\n",
       "    .dataframe tbody tr th:only-of-type {\n",
       "        vertical-align: middle;\n",
       "    }\n",
       "\n",
       "    .dataframe tbody tr th {\n",
       "        vertical-align: top;\n",
       "    }\n",
       "\n",
       "    .dataframe thead th {\n",
       "        text-align: right;\n",
       "    }\n",
       "</style>\n",
       "<table border=\"1\" class=\"dataframe\">\n",
       "  <thead>\n",
       "    <tr style=\"text-align: right;\">\n",
       "      <th></th>\n",
       "      <th>Internal ID</th>\n",
       "      <th>Vendor ID</th>\n",
       "      <th>SMILES</th>\n",
       "      <th>CollectionName</th>\n",
       "      <th>logS</th>\n",
       "    </tr>\n",
       "  </thead>\n",
       "  <tbody>\n",
       "    <tr>\n",
       "      <th>0</th>\n",
       "      <td>Mol1</td>\n",
       "      <td>317714313</td>\n",
       "      <td>CNc1cc(Nc2cccn(-c3ccccn3)c2=O)nn2c(C(=O)N[C@@H...</td>\n",
       "      <td>emolecules</td>\n",
       "      <td>-5.548020</td>\n",
       "    </tr>\n",
       "    <tr>\n",
       "      <th>1</th>\n",
       "      <td>Mol2</td>\n",
       "      <td>324056965</td>\n",
       "      <td>CCOc1cc2nn(CCC(C)(C)O)cc2cc1NC(=O)c1cccc(C(F)F)n1</td>\n",
       "      <td>emolecules</td>\n",
       "      <td>-5.071409</td>\n",
       "    </tr>\n",
       "    <tr>\n",
       "      <th>2</th>\n",
       "      <td>Mol4</td>\n",
       "      <td>194963090</td>\n",
       "      <td>CC(C)(Oc1ccc(-c2cnc(N)c(-c3ccc(Cl)cc3)c2)cc1)C...</td>\n",
       "      <td>emolecules</td>\n",
       "      <td>-3.925969</td>\n",
       "    </tr>\n",
       "    <tr>\n",
       "      <th>3</th>\n",
       "      <td>Mol6</td>\n",
       "      <td>316230505</td>\n",
       "      <td>CC#CC(=O)N[C@H]1CCCN(c2c(F)cc(C(N)=O)c3[nH]c(C...</td>\n",
       "      <td>emolecules</td>\n",
       "      <td>-4.535280</td>\n",
       "    </tr>\n",
       "    <tr>\n",
       "      <th>4</th>\n",
       "      <td>Mol9</td>\n",
       "      <td>EN300-97039</td>\n",
       "      <td>C=CC(=O)N1CCC[C@@H](n2nc(-c3ccc(Oc4ccccc4)cc3)...</td>\n",
       "      <td>enamineBB_pmc</td>\n",
       "      <td>-4.709963</td>\n",
       "    </tr>\n",
       "  </tbody>\n",
       "</table>\n",
       "</div>"
      ],
      "text/plain": [
       "  Internal ID    Vendor ID                                             SMILES  \\\n",
       "0        Mol1    317714313  CNc1cc(Nc2cccn(-c3ccccn3)c2=O)nn2c(C(=O)N[C@@H...   \n",
       "1        Mol2    324056965  CCOc1cc2nn(CCC(C)(C)O)cc2cc1NC(=O)c1cccc(C(F)F)n1   \n",
       "2        Mol4    194963090  CC(C)(Oc1ccc(-c2cnc(N)c(-c3ccc(Cl)cc3)c2)cc1)C...   \n",
       "3        Mol6    316230505  CC#CC(=O)N[C@H]1CCCN(c2c(F)cc(C(N)=O)c3[nH]c(C...   \n",
       "4        Mol9  EN300-97039  C=CC(=O)N1CCC[C@@H](n2nc(-c3ccc(Oc4ccccc4)cc3)...   \n",
       "\n",
       "  CollectionName      logS  \n",
       "0     emolecules -5.548020  \n",
       "1     emolecules -5.071409  \n",
       "2     emolecules -3.925969  \n",
       "3     emolecules -4.535280  \n",
       "4  enamineBB_pmc -4.709963  "
      ]
     },
     "execution_count": 3,
     "metadata": {},
     "output_type": "execute_result"
    }
   ],
   "source": [
    "df = pd.read_csv(\"data/biogen_logS.csv\")\n",
    "df.head()"
   ]
  },
  {
   "cell_type": "markdown",
   "id": "dc28486e",
   "metadata": {},
   "source": [
    "### model_list - A list of tuples where each tuple contains a model name and a function to create the model.\n",
    "\n",
    "ML models are defined with a simple function that returns a scikit-learn compatible model.  The model must support the **fit** and **predict** methods. Calling the functions this way enables arguments to be passed to the model. "
   ]
  },
  {
   "cell_type": "code",
   "execution_count": 4,
   "id": "f06a75e6",
   "metadata": {},
   "outputs": [],
   "source": [
    "# define functions \n",
    "def gen_LGBMRegressor():\n",
    "    return LGBMRegressor()\n",
    "\n",
    "def gen_CatBoostRegressor():\n",
    "    return CatBoostRegressor(verbose=False)\n",
    "\n",
    "# create a list of names and functions\n",
    "model_list = [[\"LGBM\",gen_LGBMRegressor],[\"CatBoost\",gen_CatBoostRegressor]]"
   ]
  },
  {
   "cell_type": "markdown",
   "id": "cf30ea06",
   "metadata": {},
   "source": [
    "### y_col - The name of the target column in the DataFrame\n",
    "The **y_col** argument specifies the **y** variable.  In this case, it's **logS**. "
   ]
  },
  {
   "cell_type": "code",
   "execution_count": 5,
   "id": "e0aaab94",
   "metadata": {},
   "outputs": [
    {
     "data": {
      "text/html": [
       "<div>\n",
       "<style scoped>\n",
       "    .dataframe tbody tr th:only-of-type {\n",
       "        vertical-align: middle;\n",
       "    }\n",
       "\n",
       "    .dataframe tbody tr th {\n",
       "        vertical-align: top;\n",
       "    }\n",
       "\n",
       "    .dataframe thead th {\n",
       "        text-align: right;\n",
       "    }\n",
       "</style>\n",
       "<table border=\"1\" class=\"dataframe\">\n",
       "  <thead>\n",
       "    <tr style=\"text-align: right;\">\n",
       "      <th></th>\n",
       "      <th>Internal ID</th>\n",
       "      <th>Vendor ID</th>\n",
       "      <th>SMILES</th>\n",
       "      <th>CollectionName</th>\n",
       "      <th>logS</th>\n",
       "    </tr>\n",
       "  </thead>\n",
       "  <tbody>\n",
       "    <tr>\n",
       "      <th>0</th>\n",
       "      <td>Mol1</td>\n",
       "      <td>317714313</td>\n",
       "      <td>CNc1cc(Nc2cccn(-c3ccccn3)c2=O)nn2c(C(=O)N[C@@H...</td>\n",
       "      <td>emolecules</td>\n",
       "      <td>-5.548020</td>\n",
       "    </tr>\n",
       "    <tr>\n",
       "      <th>1</th>\n",
       "      <td>Mol2</td>\n",
       "      <td>324056965</td>\n",
       "      <td>CCOc1cc2nn(CCC(C)(C)O)cc2cc1NC(=O)c1cccc(C(F)F)n1</td>\n",
       "      <td>emolecules</td>\n",
       "      <td>-5.071409</td>\n",
       "    </tr>\n",
       "    <tr>\n",
       "      <th>2</th>\n",
       "      <td>Mol4</td>\n",
       "      <td>194963090</td>\n",
       "      <td>CC(C)(Oc1ccc(-c2cnc(N)c(-c3ccc(Cl)cc3)c2)cc1)C...</td>\n",
       "      <td>emolecules</td>\n",
       "      <td>-3.925969</td>\n",
       "    </tr>\n",
       "    <tr>\n",
       "      <th>3</th>\n",
       "      <td>Mol6</td>\n",
       "      <td>316230505</td>\n",
       "      <td>CC#CC(=O)N[C@H]1CCCN(c2c(F)cc(C(N)=O)c3[nH]c(C...</td>\n",
       "      <td>emolecules</td>\n",
       "      <td>-4.535280</td>\n",
       "    </tr>\n",
       "    <tr>\n",
       "      <th>4</th>\n",
       "      <td>Mol9</td>\n",
       "      <td>EN300-97039</td>\n",
       "      <td>C=CC(=O)N1CCC[C@@H](n2nc(-c3ccc(Oc4ccccc4)cc3)...</td>\n",
       "      <td>enamineBB_pmc</td>\n",
       "      <td>-4.709963</td>\n",
       "    </tr>\n",
       "  </tbody>\n",
       "</table>\n",
       "</div>"
      ],
      "text/plain": [
       "  Internal ID    Vendor ID                                             SMILES  \\\n",
       "0        Mol1    317714313  CNc1cc(Nc2cccn(-c3ccccn3)c2=O)nn2c(C(=O)N[C@@H...   \n",
       "1        Mol2    324056965  CCOc1cc2nn(CCC(C)(C)O)cc2cc1NC(=O)c1cccc(C(F)F)n1   \n",
       "2        Mol4    194963090  CC(C)(Oc1ccc(-c2cnc(N)c(-c3ccc(Cl)cc3)c2)cc1)C...   \n",
       "3        Mol6    316230505  CC#CC(=O)N[C@H]1CCCN(c2c(F)cc(C(N)=O)c3[nH]c(C...   \n",
       "4        Mol9  EN300-97039  C=CC(=O)N1CCC[C@@H](n2nc(-c3ccc(Oc4ccccc4)cc3)...   \n",
       "\n",
       "  CollectionName      logS  \n",
       "0     emolecules -5.548020  \n",
       "1     emolecules -5.071409  \n",
       "2     emolecules -3.925969  \n",
       "3     emolecules -4.535280  \n",
       "4  enamineBB_pmc -4.709963  "
      ]
     },
     "execution_count": 5,
     "metadata": {},
     "output_type": "execute_result"
    }
   ],
   "source": [
    "df.head()"
   ]
  },
  {
   "cell_type": "markdown",
   "id": "1a3da773",
   "metadata": {},
   "source": [
    "### group_list - A list of tuples where each tuple contains a group name and a function to calculate the group\n",
    "\n",
    "Splitting functions take a SMILES list as input and return a list of integers corresponding to groups.  Here are a couple of examples.  The first takes a list of SMILES and returns a unique index for each.  This just produces a random split.   The second takes the same input and returns a list of cluster ids.  The *cross_validation* function will not put molecules from the same cluster into both training and test sets. \n",
    "\n",
    "The **useful_rdkit_utils** library has four splitting functions.  \n",
    "- get_random_split\n",
    "- get_bemis_murcko_clusters\n",
    "- get_butina_clusters \n",
    "- get_kmeans clusters - I'm still figuring out the best way to use this one\n",
    "\n",
    "The code below shows how two of these functions are implemented. "
   ]
  },
  {
   "cell_type": "code",
   "execution_count": 6,
   "id": "8d82b9ca",
   "metadata": {},
   "outputs": [],
   "source": [
    "# define functions\n",
    "def get_random_split(smiles_list):\n",
    "    return list(range(0, len(smiles_list)))\n",
    "\n",
    "def get_butina_clusters(smiles_list):\n",
    "    fp_list = [uru.smi2morgan_fp(x) for x in smiles_list]\n",
    "    return uru.taylor_butina_clustering(fp_list)\n",
    "\n",
    "# create a list of names and functions \n",
    "group_list = [[\"butina\",uru.get_butina_clusters],[\"random\",get_random_split]]"
   ]
  },
  {
   "cell_type": "markdown",
   "id": "fd2f285d",
   "metadata": {},
   "source": [
    "Now let's apply **cross_validate**.  We will define \n",
    "\n",
    "Two models\n",
    "- [LGBMRegressor](https://lightgbm.readthedocs.io/en/latest/Python-Intro.html)\n",
    "- [CatBoostRegressor](https://catboost.ai/docs/en/concepts/python-quickstart)\n",
    "\n",
    "Two grouping methods\n",
    "- random (random_split)\n",
    "- butina (split based on Butina clustering) "
   ]
  },
  {
   "cell_type": "markdown",
   "id": "ccefa85e",
   "metadata": {},
   "source": [
    "### Run cross_validate"
   ]
  },
  {
   "cell_type": "code",
   "execution_count": 7,
   "id": "9fffa411-9d28-4243-a665-29b847169d0b",
   "metadata": {},
   "outputs": [
    {
     "data": {
      "application/vnd.jupyter.widget-view+json": {
       "model_id": "",
       "version_major": 2,
       "version_minor": 0
      },
      "text/plain": [
       "  0%|          | 0/5 [00:00<?, ?it/s]"
      ]
     },
     "metadata": {},
     "output_type": "display_data"
    },
    {
     "data": {
      "application/vnd.jupyter.widget-view+json": {
       "model_id": "",
       "version_major": 2,
       "version_minor": 0
      },
      "text/plain": [
       "random:   0%|          | 0/5 [00:00<?, ?it/s]"
      ]
     },
     "metadata": {},
     "output_type": "display_data"
    },
    {
     "data": {
      "application/vnd.jupyter.widget-view+json": {
       "model_id": "",
       "version_major": 2,
       "version_minor": 0
      },
      "text/plain": [
       "butina:   0%|          | 0/5 [00:00<?, ?it/s]"
      ]
     },
     "metadata": {},
     "output_type": "display_data"
    },
    {
     "data": {
      "application/vnd.jupyter.widget-view+json": {
       "model_id": "",
       "version_major": 2,
       "version_minor": 0
      },
      "text/plain": [
       "random:   0%|          | 0/5 [00:00<?, ?it/s]"
      ]
     },
     "metadata": {},
     "output_type": "display_data"
    },
    {
     "data": {
      "application/vnd.jupyter.widget-view+json": {
       "model_id": "",
       "version_major": 2,
       "version_minor": 0
      },
      "text/plain": [
       "butina:   0%|          | 0/5 [00:00<?, ?it/s]"
      ]
     },
     "metadata": {},
     "output_type": "display_data"
    },
    {
     "data": {
      "application/vnd.jupyter.widget-view+json": {
       "model_id": "",
       "version_major": 2,
       "version_minor": 0
      },
      "text/plain": [
       "random:   0%|          | 0/5 [00:00<?, ?it/s]"
      ]
     },
     "metadata": {},
     "output_type": "display_data"
    },
    {
     "data": {
      "application/vnd.jupyter.widget-view+json": {
       "model_id": "",
       "version_major": 2,
       "version_minor": 0
      },
      "text/plain": [
       "butina:   0%|          | 0/5 [00:00<?, ?it/s]"
      ]
     },
     "metadata": {},
     "output_type": "display_data"
    },
    {
     "data": {
      "application/vnd.jupyter.widget-view+json": {
       "model_id": "",
       "version_major": 2,
       "version_minor": 0
      },
      "text/plain": [
       "random:   0%|          | 0/5 [00:00<?, ?it/s]"
      ]
     },
     "metadata": {},
     "output_type": "display_data"
    },
    {
     "data": {
      "application/vnd.jupyter.widget-view+json": {
       "model_id": "",
       "version_major": 2,
       "version_minor": 0
      },
      "text/plain": [
       "butina:   0%|          | 0/5 [00:00<?, ?it/s]"
      ]
     },
     "metadata": {},
     "output_type": "display_data"
    },
    {
     "data": {
      "application/vnd.jupyter.widget-view+json": {
       "model_id": "",
       "version_major": 2,
       "version_minor": 0
      },
      "text/plain": [
       "random:   0%|          | 0/5 [00:00<?, ?it/s]"
      ]
     },
     "metadata": {},
     "output_type": "display_data"
    },
    {
     "data": {
      "application/vnd.jupyter.widget-view+json": {
       "model_id": "",
       "version_major": 2,
       "version_minor": 0
      },
      "text/plain": [
       "butina:   0%|          | 0/5 [00:00<?, ?it/s]"
      ]
     },
     "metadata": {},
     "output_type": "display_data"
    },
    {
     "name": "stdout",
     "output_type": "stream",
     "text": [
      "Cross-validation complete\n"
     ]
    }
   ],
   "source": [
    "y = \"logS\"\n",
    "model_list = [(\"lgbm_morgan\", LGBMMorganCountWrapper),(\"catboost\",CatBoostWrapper)]\n",
    "group_list = [(\"random\", uru.get_random_clusters),(\"butina\", uru.get_butina_clusters)]\n",
    "with warnings.catch_warnings():\n",
    "    warnings.simplefilter(\"ignore\")\n",
    "    result_df = uru.cross_validate(df,model_list,y,group_list)\n",
    "print(\"Cross-validation complete\")"
   ]
  },
  {
   "cell_type": "markdown",
   "id": "269d14b6-3ec8-4318-8c28-d9434ce8d0bc",
   "metadata": {},
   "source": [
    "### Calculate Statitics\n",
    "Now we'll calculate stats, let's get the test set rows from result_df. "
   ]
  },
  {
   "cell_type": "code",
   "execution_count": 8,
   "id": "1d9fedc3-6a71-42c3-b1e9-2473f5a5224b",
   "metadata": {},
   "outputs": [
    {
     "data": {
      "text/html": [
       "<div>\n",
       "<style scoped>\n",
       "    .dataframe tbody tr th:only-of-type {\n",
       "        vertical-align: middle;\n",
       "    }\n",
       "\n",
       "    .dataframe tbody tr th {\n",
       "        vertical-align: top;\n",
       "    }\n",
       "\n",
       "    .dataframe thead th {\n",
       "        text-align: right;\n",
       "    }\n",
       "</style>\n",
       "<table border=\"1\" class=\"dataframe\">\n",
       "  <thead>\n",
       "    <tr style=\"text-align: right;\">\n",
       "      <th></th>\n",
       "      <th>Internal ID</th>\n",
       "      <th>Vendor ID</th>\n",
       "      <th>SMILES</th>\n",
       "      <th>CollectionName</th>\n",
       "      <th>logS</th>\n",
       "      <th>dset</th>\n",
       "      <th>group</th>\n",
       "      <th>fold</th>\n",
       "      <th>lgbm_morgan</th>\n",
       "      <th>catboost</th>\n",
       "    </tr>\n",
       "  </thead>\n",
       "  <tbody>\n",
       "    <tr>\n",
       "      <th>10</th>\n",
       "      <td>Mol23</td>\n",
       "      <td>316756775</td>\n",
       "      <td>[2H]C([2H])([2H])NC(=O)c1nnc(NC(=O)C2CC2)cc1Nc...</td>\n",
       "      <td>emolecules</td>\n",
       "      <td>-4.399056</td>\n",
       "      <td>test</td>\n",
       "      <td>random</td>\n",
       "      <td>0</td>\n",
       "      <td>-4.459706</td>\n",
       "      <td>-4.493050</td>\n",
       "    </tr>\n",
       "    <tr>\n",
       "      <th>13</th>\n",
       "      <td>Mol26</td>\n",
       "      <td>207623013</td>\n",
       "      <td>Cc1c(-c2c(F)cc(C(N)=O)c3[nH]c4c(c23)CC[C@H](C(...</td>\n",
       "      <td>emolecules</td>\n",
       "      <td>-5.377649</td>\n",
       "      <td>test</td>\n",
       "      <td>random</td>\n",
       "      <td>0</td>\n",
       "      <td>-4.173929</td>\n",
       "      <td>-4.521864</td>\n",
       "    </tr>\n",
       "    <tr>\n",
       "      <th>14</th>\n",
       "      <td>Mol27</td>\n",
       "      <td>324038090</td>\n",
       "      <td>Cn1cc(-c2cn3nccc3c(-c3cnn([C@]4(CC#N)C[C@@H](C...</td>\n",
       "      <td>emolecules</td>\n",
       "      <td>-5.241251</td>\n",
       "      <td>test</td>\n",
       "      <td>random</td>\n",
       "      <td>0</td>\n",
       "      <td>-4.227134</td>\n",
       "      <td>-4.234427</td>\n",
       "    </tr>\n",
       "    <tr>\n",
       "      <th>29</th>\n",
       "      <td>Mol46</td>\n",
       "      <td>313548577</td>\n",
       "      <td>Cc1c(Cl)ccc2cc3n(c12)[C@@H](C)CNC3=O</td>\n",
       "      <td>emolecules</td>\n",
       "      <td>-3.873254</td>\n",
       "      <td>test</td>\n",
       "      <td>random</td>\n",
       "      <td>0</td>\n",
       "      <td>-4.191413</td>\n",
       "      <td>-4.079686</td>\n",
       "    </tr>\n",
       "    <tr>\n",
       "      <th>34</th>\n",
       "      <td>Mol51</td>\n",
       "      <td>48239418</td>\n",
       "      <td>Cc1ncc(CN2CC[C@@H](Nc3cncc(Cl)n3)[C@@H](C)C2)s1</td>\n",
       "      <td>emolecules</td>\n",
       "      <td>-3.806129</td>\n",
       "      <td>test</td>\n",
       "      <td>random</td>\n",
       "      <td>0</td>\n",
       "      <td>-3.917246</td>\n",
       "      <td>-3.807745</td>\n",
       "    </tr>\n",
       "    <tr>\n",
       "      <th>...</th>\n",
       "      <td>...</td>\n",
       "      <td>...</td>\n",
       "      <td>...</td>\n",
       "      <td>...</td>\n",
       "      <td>...</td>\n",
       "      <td>...</td>\n",
       "      <td>...</td>\n",
       "      <td>...</td>\n",
       "      <td>...</td>\n",
       "      <td>...</td>\n",
       "    </tr>\n",
       "    <tr>\n",
       "      <th>2136</th>\n",
       "      <td>Mol3461</td>\n",
       "      <td>45673625</td>\n",
       "      <td>CN(Cc1cnccn1)C(=O)c1cc(-c2ccc(F)cc2)on1</td>\n",
       "      <td>emolecules</td>\n",
       "      <td>-4.290729</td>\n",
       "      <td>test</td>\n",
       "      <td>butina</td>\n",
       "      <td>24</td>\n",
       "      <td>-3.965601</td>\n",
       "      <td>-4.132332</td>\n",
       "    </tr>\n",
       "    <tr>\n",
       "      <th>2137</th>\n",
       "      <td>Mol3462</td>\n",
       "      <td>499093</td>\n",
       "      <td>Clc1ccccc1C(c1ccccc1)(c1ccccc1)n1ccnc1</td>\n",
       "      <td>emolecules</td>\n",
       "      <td>-4.966498</td>\n",
       "      <td>test</td>\n",
       "      <td>butina</td>\n",
       "      <td>24</td>\n",
       "      <td>-4.490495</td>\n",
       "      <td>-4.443224</td>\n",
       "    </tr>\n",
       "    <tr>\n",
       "      <th>2141</th>\n",
       "      <td>Mol3466</td>\n",
       "      <td>11477117</td>\n",
       "      <td>CC(C)NS(=O)(=O)c1ccc2c(c1)oc(=O)c1cc(S(=O)(=O)...</td>\n",
       "      <td>emolecules</td>\n",
       "      <td>-5.969898</td>\n",
       "      <td>test</td>\n",
       "      <td>butina</td>\n",
       "      <td>24</td>\n",
       "      <td>-4.266912</td>\n",
       "      <td>-4.553693</td>\n",
       "    </tr>\n",
       "    <tr>\n",
       "      <th>2143</th>\n",
       "      <td>Mol3468</td>\n",
       "      <td>31707130</td>\n",
       "      <td>N#CCCn1nc(C(F)(F)F)cc1O</td>\n",
       "      <td>emolecules</td>\n",
       "      <td>-3.948060</td>\n",
       "      <td>test</td>\n",
       "      <td>butina</td>\n",
       "      <td>24</td>\n",
       "      <td>-4.129407</td>\n",
       "      <td>-4.304244</td>\n",
       "    </tr>\n",
       "    <tr>\n",
       "      <th>2170</th>\n",
       "      <td>Mol3495</td>\n",
       "      <td>37024444</td>\n",
       "      <td>CC(C)(C)Cc1nnc(-c2cnc3onc(C4CCCC4)c3c2)o1</td>\n",
       "      <td>emolecules</td>\n",
       "      <td>-4.912777</td>\n",
       "      <td>test</td>\n",
       "      <td>butina</td>\n",
       "      <td>24</td>\n",
       "      <td>-4.497876</td>\n",
       "      <td>-4.279286</td>\n",
       "    </tr>\n",
       "  </tbody>\n",
       "</table>\n",
       "<p>21730 rows × 10 columns</p>\n",
       "</div>"
      ],
      "text/plain": [
       "     Internal ID  Vendor ID  \\\n",
       "10         Mol23  316756775   \n",
       "13         Mol26  207623013   \n",
       "14         Mol27  324038090   \n",
       "29         Mol46  313548577   \n",
       "34         Mol51   48239418   \n",
       "...          ...        ...   \n",
       "2136     Mol3461   45673625   \n",
       "2137     Mol3462     499093   \n",
       "2141     Mol3466   11477117   \n",
       "2143     Mol3468   31707130   \n",
       "2170     Mol3495   37024444   \n",
       "\n",
       "                                                 SMILES CollectionName  \\\n",
       "10    [2H]C([2H])([2H])NC(=O)c1nnc(NC(=O)C2CC2)cc1Nc...     emolecules   \n",
       "13    Cc1c(-c2c(F)cc(C(N)=O)c3[nH]c4c(c23)CC[C@H](C(...     emolecules   \n",
       "14    Cn1cc(-c2cn3nccc3c(-c3cnn([C@]4(CC#N)C[C@@H](C...     emolecules   \n",
       "29                 Cc1c(Cl)ccc2cc3n(c12)[C@@H](C)CNC3=O     emolecules   \n",
       "34      Cc1ncc(CN2CC[C@@H](Nc3cncc(Cl)n3)[C@@H](C)C2)s1     emolecules   \n",
       "...                                                 ...            ...   \n",
       "2136            CN(Cc1cnccn1)C(=O)c1cc(-c2ccc(F)cc2)on1     emolecules   \n",
       "2137             Clc1ccccc1C(c1ccccc1)(c1ccccc1)n1ccnc1     emolecules   \n",
       "2141  CC(C)NS(=O)(=O)c1ccc2c(c1)oc(=O)c1cc(S(=O)(=O)...     emolecules   \n",
       "2143                            N#CCCn1nc(C(F)(F)F)cc1O     emolecules   \n",
       "2170          CC(C)(C)Cc1nnc(-c2cnc3onc(C4CCCC4)c3c2)o1     emolecules   \n",
       "\n",
       "          logS  dset   group  fold  lgbm_morgan  catboost  \n",
       "10   -4.399056  test  random     0    -4.459706 -4.493050  \n",
       "13   -5.377649  test  random     0    -4.173929 -4.521864  \n",
       "14   -5.241251  test  random     0    -4.227134 -4.234427  \n",
       "29   -3.873254  test  random     0    -4.191413 -4.079686  \n",
       "34   -3.806129  test  random     0    -3.917246 -3.807745  \n",
       "...        ...   ...     ...   ...          ...       ...  \n",
       "2136 -4.290729  test  butina    24    -3.965601 -4.132332  \n",
       "2137 -4.966498  test  butina    24    -4.490495 -4.443224  \n",
       "2141 -5.969898  test  butina    24    -4.266912 -4.553693  \n",
       "2143 -3.948060  test  butina    24    -4.129407 -4.304244  \n",
       "2170 -4.912777  test  butina    24    -4.497876 -4.279286  \n",
       "\n",
       "[21730 rows x 10 columns]"
      ]
     },
     "execution_count": 8,
     "metadata": {},
     "output_type": "execute_result"
    }
   ],
   "source": [
    "test_df = result_df.query(\"dset=='test'\")\n",
    "test_df"
   ]
  },
  {
   "cell_type": "markdown",
   "id": "31ac37b8-8e85-4889-9605-a5910f7e9fef",
   "metadata": {},
   "source": [
    "Calculate $R^2$ and MAE "
   ]
  },
  {
   "cell_type": "code",
   "execution_count": 9,
   "id": "184b349f-88aa-4c5b-99e5-74da80de4cb5",
   "metadata": {},
   "outputs": [],
   "source": [
    "model_names = [x[0] for x in model_list]\n",
    "stats_list = [(\"R2\",r2_score),(\"MAE\",mean_absolute_error)]\n",
    "stat_names = [x[0] for x in stats_list]\n",
    "res_list = []\n",
    "for [fold, group],v in test_df.groupby([\"fold\",\"group\"]):\n",
    "    for m in model_names:\n",
    "        stats_vals = []\n",
    "        for stat_name, stat_func in stats_list:\n",
    "            stats_vals.append(stat_func(v[y],v[m]))\n",
    "        res_list.append([fold,m,group]+stats_vals)"
   ]
  },
  {
   "cell_type": "code",
   "execution_count": 10,
   "id": "c4865b73-a09a-4bc2-bf47-569a47b2b5c4",
   "metadata": {},
   "outputs": [
    {
     "data": {
      "text/html": [
       "<div>\n",
       "<style scoped>\n",
       "    .dataframe tbody tr th:only-of-type {\n",
       "        vertical-align: middle;\n",
       "    }\n",
       "\n",
       "    .dataframe tbody tr th {\n",
       "        vertical-align: top;\n",
       "    }\n",
       "\n",
       "    .dataframe thead th {\n",
       "        text-align: right;\n",
       "    }\n",
       "</style>\n",
       "<table border=\"1\" class=\"dataframe\">\n",
       "  <thead>\n",
       "    <tr style=\"text-align: right;\">\n",
       "      <th></th>\n",
       "      <th>Fold</th>\n",
       "      <th>Model</th>\n",
       "      <th>Split</th>\n",
       "      <th>R2</th>\n",
       "      <th>MAE</th>\n",
       "    </tr>\n",
       "  </thead>\n",
       "  <tbody>\n",
       "    <tr>\n",
       "      <th>0</th>\n",
       "      <td>0</td>\n",
       "      <td>lgbm_morgan</td>\n",
       "      <td>butina</td>\n",
       "      <td>0.311470</td>\n",
       "      <td>0.399083</td>\n",
       "    </tr>\n",
       "    <tr>\n",
       "      <th>1</th>\n",
       "      <td>0</td>\n",
       "      <td>catboost</td>\n",
       "      <td>butina</td>\n",
       "      <td>0.313997</td>\n",
       "      <td>0.400780</td>\n",
       "    </tr>\n",
       "    <tr>\n",
       "      <th>2</th>\n",
       "      <td>0</td>\n",
       "      <td>lgbm_morgan</td>\n",
       "      <td>random</td>\n",
       "      <td>0.373484</td>\n",
       "      <td>0.383535</td>\n",
       "    </tr>\n",
       "    <tr>\n",
       "      <th>3</th>\n",
       "      <td>0</td>\n",
       "      <td>catboost</td>\n",
       "      <td>random</td>\n",
       "      <td>0.375912</td>\n",
       "      <td>0.387181</td>\n",
       "    </tr>\n",
       "    <tr>\n",
       "      <th>4</th>\n",
       "      <td>1</td>\n",
       "      <td>lgbm_morgan</td>\n",
       "      <td>butina</td>\n",
       "      <td>0.315037</td>\n",
       "      <td>0.440921</td>\n",
       "    </tr>\n",
       "    <tr>\n",
       "      <th>...</th>\n",
       "      <td>...</td>\n",
       "      <td>...</td>\n",
       "      <td>...</td>\n",
       "      <td>...</td>\n",
       "      <td>...</td>\n",
       "    </tr>\n",
       "    <tr>\n",
       "      <th>95</th>\n",
       "      <td>23</td>\n",
       "      <td>catboost</td>\n",
       "      <td>random</td>\n",
       "      <td>0.340852</td>\n",
       "      <td>0.397745</td>\n",
       "    </tr>\n",
       "    <tr>\n",
       "      <th>96</th>\n",
       "      <td>24</td>\n",
       "      <td>lgbm_morgan</td>\n",
       "      <td>butina</td>\n",
       "      <td>0.283378</td>\n",
       "      <td>0.425159</td>\n",
       "    </tr>\n",
       "    <tr>\n",
       "      <th>97</th>\n",
       "      <td>24</td>\n",
       "      <td>catboost</td>\n",
       "      <td>butina</td>\n",
       "      <td>0.333960</td>\n",
       "      <td>0.425170</td>\n",
       "    </tr>\n",
       "    <tr>\n",
       "      <th>98</th>\n",
       "      <td>24</td>\n",
       "      <td>lgbm_morgan</td>\n",
       "      <td>random</td>\n",
       "      <td>0.368729</td>\n",
       "      <td>0.408360</td>\n",
       "    </tr>\n",
       "    <tr>\n",
       "      <th>99</th>\n",
       "      <td>24</td>\n",
       "      <td>catboost</td>\n",
       "      <td>random</td>\n",
       "      <td>0.374336</td>\n",
       "      <td>0.403185</td>\n",
       "    </tr>\n",
       "  </tbody>\n",
       "</table>\n",
       "<p>100 rows × 5 columns</p>\n",
       "</div>"
      ],
      "text/plain": [
       "    Fold        Model   Split        R2       MAE\n",
       "0      0  lgbm_morgan  butina  0.311470  0.399083\n",
       "1      0     catboost  butina  0.313997  0.400780\n",
       "2      0  lgbm_morgan  random  0.373484  0.383535\n",
       "3      0     catboost  random  0.375912  0.387181\n",
       "4      1  lgbm_morgan  butina  0.315037  0.440921\n",
       "..   ...          ...     ...       ...       ...\n",
       "95    23     catboost  random  0.340852  0.397745\n",
       "96    24  lgbm_morgan  butina  0.283378  0.425159\n",
       "97    24     catboost  butina  0.333960  0.425170\n",
       "98    24  lgbm_morgan  random  0.368729  0.408360\n",
       "99    24     catboost  random  0.374336  0.403185\n",
       "\n",
       "[100 rows x 5 columns]"
      ]
     },
     "execution_count": 10,
     "metadata": {},
     "output_type": "execute_result"
    }
   ],
   "source": [
    "stat_df = pd.DataFrame(res_list,columns=[\"Fold\",\"Model\",\"Split\"]+[x[0] for x in stats_list])\n",
    "stat_df"
   ]
  },
  {
   "cell_type": "markdown",
   "id": "f86c1b52",
   "metadata": {},
   "source": [
    "### Analysis\n",
    "**This section is designed to show you how to work with the output from cross_validate.  It is not necessarily intended to demonstrate best practices for model comparsion** For more information on statistical best practices, please see the [Polaris notebooks](https://github.com/polaris-hub/polaris-method-comparison/blob/main/ADME_example/ML_Regression_Comparison.ipynb). "
   ]
  },
  {
   "cell_type": "markdown",
   "id": "27256605",
   "metadata": {},
   "source": [
    "Plot the $R^2$ and MAE distributions to see if they're roughly normal. "
   ]
  },
  {
   "cell_type": "code",
   "execution_count": 11,
   "id": "0a70c964",
   "metadata": {},
   "outputs": [
    {
     "data": {
      "image/png": "[encoded data removed]",
      "text/plain": [
       "<Figure size 1000x500 with 2 Axes>"
      ]
     },
     "metadata": {},
     "output_type": "display_data"
    }
   ],
   "source": [
    "figure, axes = plt.subplots(1,2,figsize=(10,5))\n",
    "ax0 = sns.boxplot(y=\"R2\",x=\"Split\",hue=\"Model\",data=stat_df,ax=axes[0])\n",
    "ax1 = sns.boxplot(y=\"MAE\",x=\"Split\",hue=\"Model\",data=stat_df,ax=axes[1])\n",
    "plt.tight_layout()"
   ]
  },
  {
   "cell_type": "markdown",
   "id": "25ba4867",
   "metadata": {},
   "source": [
    "Calculate p-values and Cohen's d"
   ]
  },
  {
   "cell_type": "code",
   "execution_count": 12,
   "id": "f58a4c5a",
   "metadata": {},
   "outputs": [],
   "source": [
    "def cohen_d(s1,s2):\n",
    "    return np.abs(np.mean(s1-s2)/np.std(s1-s2))"
   ]
  },
  {
   "cell_type": "code",
   "execution_count": 13,
   "id": "b77d0a06-11e9-45ea-b6e1-305388689fc3",
   "metadata": {},
   "outputs": [
    {
     "name": "stdout",
     "output_type": "stream",
     "text": [
      "butina lgbm_morgan 3.3305409330374092e-15 1.14\n",
      "butina catboost 4.300690554733906e-11 0.89\n",
      "random lgbm_morgan 3.3305409330374092e-15 1.14\n",
      "random catboost 4.300690554733906e-11 0.89\n"
     ]
    }
   ],
   "source": [
    "for split in stat_df.Split.unique():\n",
    "    split_df = stat_df.query(\"Split == @split\")\n",
    "    for model in stat_df.Model.unique():\n",
    "        stat_comp_list = []\n",
    "        for stat in stat_names:\n",
    "            stat_comp_list.append(stat_df.query(\"Model == @model\")[stat].values)\n",
    "        p_value = ttest_ind(stat_comp_list[0], stat_comp_list[1]).pvalue\n",
    "        d = cohen_d(stat_comp_list[0], stat_comp_list[1])\n",
    "        print(split,model,p_value,f\"{d:0.2f}\")"
   ]
  },
  {
   "cell_type": "code",
   "execution_count": 14,
   "id": "44ecc061-e5ff-4400-a655-8f552bbf69d4",
   "metadata": {},
   "outputs": [],
   "source": [
    "butina_df = stat_df.query(\"Split == 'butina'\").copy()"
   ]
  },
  {
   "cell_type": "markdown",
   "id": "2caee9ae",
   "metadata": {},
   "source": [
    "Transform the dataframe for plots"
   ]
  },
  {
   "cell_type": "code",
   "execution_count": 15,
   "id": "f0e6eb2b",
   "metadata": {},
   "outputs": [
    {
     "data": {
      "text/html": [
       "<div>\n",
       "<style scoped>\n",
       "    .dataframe tbody tr th:only-of-type {\n",
       "        vertical-align: middle;\n",
       "    }\n",
       "\n",
       "    .dataframe tbody tr th {\n",
       "        vertical-align: top;\n",
       "    }\n",
       "\n",
       "    .dataframe thead th {\n",
       "        text-align: right;\n",
       "    }\n",
       "</style>\n",
       "<table border=\"1\" class=\"dataframe\">\n",
       "  <thead>\n",
       "    <tr style=\"text-align: right;\">\n",
       "      <th></th>\n",
       "      <th>idx</th>\n",
       "      <th>Split</th>\n",
       "      <th>Fold</th>\n",
       "      <th>Model</th>\n",
       "      <th>variable</th>\n",
       "      <th>value</th>\n",
       "    </tr>\n",
       "  </thead>\n",
       "  <tbody>\n",
       "    <tr>\n",
       "      <th>0</th>\n",
       "      <td>0</td>\n",
       "      <td>butina</td>\n",
       "      <td>0</td>\n",
       "      <td>lgbm_morgan</td>\n",
       "      <td>R2</td>\n",
       "      <td>0.311470</td>\n",
       "    </tr>\n",
       "    <tr>\n",
       "      <th>1</th>\n",
       "      <td>1</td>\n",
       "      <td>butina</td>\n",
       "      <td>0</td>\n",
       "      <td>catboost</td>\n",
       "      <td>R2</td>\n",
       "      <td>0.313997</td>\n",
       "    </tr>\n",
       "    <tr>\n",
       "      <th>2</th>\n",
       "      <td>2</td>\n",
       "      <td>butina</td>\n",
       "      <td>1</td>\n",
       "      <td>lgbm_morgan</td>\n",
       "      <td>R2</td>\n",
       "      <td>0.315037</td>\n",
       "    </tr>\n",
       "    <tr>\n",
       "      <th>3</th>\n",
       "      <td>3</td>\n",
       "      <td>butina</td>\n",
       "      <td>1</td>\n",
       "      <td>catboost</td>\n",
       "      <td>R2</td>\n",
       "      <td>0.364951</td>\n",
       "    </tr>\n",
       "    <tr>\n",
       "      <th>4</th>\n",
       "      <td>4</td>\n",
       "      <td>butina</td>\n",
       "      <td>2</td>\n",
       "      <td>lgbm_morgan</td>\n",
       "      <td>R2</td>\n",
       "      <td>0.351222</td>\n",
       "    </tr>\n",
       "  </tbody>\n",
       "</table>\n",
       "</div>"
      ],
      "text/plain": [
       "   idx   Split  Fold        Model variable     value\n",
       "0    0  butina     0  lgbm_morgan       R2  0.311470\n",
       "1    1  butina     0     catboost       R2  0.313997\n",
       "2    2  butina     1  lgbm_morgan       R2  0.315037\n",
       "3    3  butina     1     catboost       R2  0.364951\n",
       "4    4  butina     2  lgbm_morgan       R2  0.351222"
      ]
     },
     "execution_count": 15,
     "metadata": {},
     "output_type": "execute_result"
    }
   ],
   "source": [
    "butina_df[\"idx\"] = range(0,len(butina_df))\n",
    "id_vars = [\"idx\",\"Split\",\"Fold\",\"Model\"]\n",
    "melt_df = butina_df.drop(\"MAE\",axis=1).melt(id_vars=id_vars)\n",
    "melt_df.head()"
   ]
  },
  {
   "cell_type": "markdown",
   "id": "f28b53b9",
   "metadata": {},
   "source": [
    "### Plot Paired Plots for $R^2$ and MAE\n",
    "I find the [paired plot](https://pingouin-stats.org/build/html/generated/pingouin.plot_paired.html) from pingouin to be a useful visual for comparing models.  The plot shows boxplots of the metrics from two variants.  In this case, we're comparing two fingerprint types.  We have lines connecting individual cross-validation folds, with an increase between methods in green and a decrease in red.  Each line represents one cross-validation fold. Ideally, we'd like to see the same color for all the lines.  If we see some red lines and some green lines this indicates less of a difference between methods. Here's the paired plot for $R^2$"
   ]
  },
  {
   "cell_type": "code",
   "execution_count": 16,
   "id": "95ea84f7",
   "metadata": {},
   "outputs": [
    {
     "data": {
      "text/plain": [
       "Text(0.5, 1.0, '$R^2$')"
      ]
     },
     "execution_count": 16,
     "metadata": {},
     "output_type": "execute_result"
    },
    {
     "data": {
      "image/png": "[encoded data removed]",
      "text/plain": [
       "<Figure size 640x480 with 1 Axes>"
      ]
     },
     "metadata": {},
     "output_type": "display_data"
    }
   ],
   "source": [
    "with warnings.catch_warnings():\n",
    "    warnings.simplefilter(\"ignore\")\n",
    "    ax = pg.plot_paired(melt_df, dv=\"value\",subject=\"Fold\",within=\"Model\")\n",
    "ax.set_xlabel(\"Model\")\n",
    "ax.set_ylabel(\"$R^2$\");\n",
    "ax.set_title(\"$R^2$\")"
   ]
  },
  {
   "cell_type": "markdown",
   "id": "6efe1f6c",
   "metadata": {},
   "source": [
    "Make a paired plot for MAE"
   ]
  },
  {
   "cell_type": "code",
   "execution_count": 17,
   "id": "9765de7b",
   "metadata": {},
   "outputs": [
    {
     "data": {
      "text/plain": [
       "Text(0.5, 1.0, 'MAE')"
      ]
     },
     "execution_count": 17,
     "metadata": {},
     "output_type": "execute_result"
    },
    {
     "data": {
      "image/png": "[encoded data removed]",
      "text/plain": [
       "<Figure size 640x480 with 1 Axes>"
      ]
     },
     "metadata": {},
     "output_type": "display_data"
    }
   ],
   "source": [
    "melt_df = butina_df.drop(\"MAE\",axis=1).melt(id_vars=id_vars)\n",
    "with warnings.catch_warnings():\n",
    "    warnings.simplefilter(\"ignore\")\n",
    "    ax = pg.plot_paired(melt_df, dv=\"value\",subject=\"Fold\",within=\"Model\")\n",
    "ax.set_xlabel(\"Method\")\n",
    "ax.set_ylabel(\"$R^2$\");\n",
    "ax.set_title(\"MAE\")"
   ]
  },
  {
   "cell_type": "code",
   "execution_count": null,
   "id": "f34acf6d",
   "metadata": {},
   "outputs": [],
   "source": []
  },
  {
   "cell_type": "code",
   "execution_count": null,
   "id": "f673ae15-5744-413d-ada1-261cf4b8993a",
   "metadata": {},
   "outputs": [],
   "source": []
  }
 ],
 "metadata": {
  "kernelspec": {
   "display_name": "Python 3 (ipykernel)",
   "language": "python",
   "name": "python3"
  },
  "language_info": {
   "codemirror_mode": {
    "name": "ipython",
    "version": 3
   },
   "file_extension": ".py",
   "mimetype": "text/x-python",
   "name": "python",
   "nbconvert_exporter": "python",
   "pygments_lexer": "ipython3",
   "version": "3.11.10"
  }
 },
 "nbformat": 4,
 "nbformat_minor": 5
}
