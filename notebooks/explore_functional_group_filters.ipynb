{
 "cells": [
  {
   "cell_type": "markdown",
   "metadata": {},
   "source": [
    "### A Simple Interactive Tool for Exploring Funcitonal Group Filters\n",
    "\n",
    "This notebook provides a simple tool for visualizing and exploring functional group filters. \n",
    "\n",
    "Uncomment and execute the cell below to install the required dependencies. "
   ]
  },
  {
   "cell_type": "code",
   "execution_count": null,
   "metadata": {},
   "outputs": [],
   "source": [
    "#!pip install useful_rdkit_utils pandas datamol ipywidgets tqdm"
   ]
  },
  {
   "cell_type": "code",
   "execution_count": 1,
   "metadata": {
    "pycharm": {
     "name": "#%%\n"
    }
   },
   "outputs": [],
   "source": [
    "import useful_rdkit_utils as uru\n",
    "import pandas as pd\n",
    "import datamol as dm\n",
    "from ipywidgets import interact\n",
    "from tqdm.auto import tqdm\n",
    "from ipywidgets import IntSlider, Dropdown"
   ]
  },
  {
   "cell_type": "markdown",
   "metadata": {},
   "source": [
    "Enable Pandas **progress_apply**"
   ]
  },
  {
   "cell_type": "code",
   "execution_count": 2,
   "metadata": {},
   "outputs": [],
   "source": [
    "tqdm.pandas()"
   ]
  },
  {
   "cell_type": "markdown",
   "metadata": {},
   "source": [
    "Use the menu below to set the active rule set"
   ]
  },
  {
   "cell_type": "code",
   "execution_count": 3,
   "metadata": {},
   "outputs": [
    {
     "data": {
      "application/vnd.jupyter.widget-view+json": {
       "model_id": "cdcf67b6f9d4487e82f65151994ea532",
       "version_major": 2,
       "version_minor": 0
      },
      "text/plain": [
       "interactive(children=(Dropdown(description='Rule Set:', options=('Glaxo', 'Dundee', 'BMS', 'PAINS', 'SureChEMB…"
      ]
     },
     "metadata": {},
     "output_type": "display_data"
    }
   ],
   "source": [
    "reos = uru.REOS()\n",
    "set_selector = Dropdown(options=reos.get_available_rule_sets(),\n",
    "                         description=\"Rule Set:\")\n",
    "def pick_rule_set(x):\n",
    "    reos.set_active_rule_sets(x)\n",
    "    print(f\"Active rule set is {reos.get_active_rule_sets()}\")\n",
    "interact(pick_rule_set,x=set_selector);"
   ]
  },
  {
   "cell_type": "markdown",
   "metadata": {},
   "source": [
    "For the visualization we need the SMARTS.  Set the REOS object to return the SMARTS when we call **process_smarts** or **process_mol**."
   ]
  },
  {
   "cell_type": "code",
   "execution_count": 4,
   "metadata": {
    "pycharm": {
     "name": "#%%\n"
    }
   },
   "outputs": [],
   "source": [
    "reos.set_output_smarts(True)"
   ]
  },
  {
   "cell_type": "markdown",
   "metadata": {},
   "source": [
    "Read a file with drug molecules from ChEMBL.  We'll use this as demo input. It's super easy to change the code below to read your own data from a SMILES file. "
   ]
  },
  {
   "cell_type": "code",
   "execution_count": 5,
   "metadata": {
    "pycharm": {
     "name": "#%%\n"
    }
   },
   "outputs": [],
   "source": [
    "#df = pd.read_csv(\"https://raw.githubusercontent.com/PatWalters/datafiles/main/chembl_drugs.smi\", names=[\"SMILES\",\"Name\"],sep=\" \")\n",
    "df = pd.read_csv(\"../data/chembl_drugs.smi\",sep=\" \",names=[\"SMILES\",\"Name\"])"
   ]
  },
  {
   "cell_type": "markdown",
   "metadata": {},
   "source": [
    "Run the filters on the drug set. "
   ]
  },
  {
   "cell_type": "code",
   "execution_count": 6,
   "metadata": {
    "pycharm": {
     "name": "#%%\n"
    }
   },
   "outputs": [
    {
     "data": {
      "application/vnd.jupyter.widget-view+json": {
       "model_id": "1c582fd139de4ae89d1f0aaa3d72d6f9",
       "version_major": 2,
       "version_minor": 0
      },
      "text/plain": [
       "  0%|          | 0/1203 [00:00<?, ?it/s]"
      ]
     },
     "metadata": {},
     "output_type": "display_data"
    }
   ],
   "source": [
    "df[['rule_set','rule','smarts']] = df.SMILES.progress_apply(reos.process_smiles).tolist()"
   ]
  },
  {
   "cell_type": "markdown",
   "metadata": {},
   "source": [
    "Take a quick look at the results. "
   ]
  },
  {
   "cell_type": "code",
   "execution_count": 7,
   "metadata": {
    "pycharm": {
     "name": "#%%\n"
    }
   },
   "outputs": [
    {
     "data": {
      "text/html": [
       "<div>\n",
       "<style scoped>\n",
       "    .dataframe tbody tr th:only-of-type {\n",
       "        vertical-align: middle;\n",
       "    }\n",
       "\n",
       "    .dataframe tbody tr th {\n",
       "        vertical-align: top;\n",
       "    }\n",
       "\n",
       "    .dataframe thead th {\n",
       "        text-align: right;\n",
       "    }\n",
       "</style>\n",
       "<table border=\"1\" class=\"dataframe\">\n",
       "  <thead>\n",
       "    <tr style=\"text-align: right;\">\n",
       "      <th></th>\n",
       "      <th>SMILES</th>\n",
       "      <th>Name</th>\n",
       "      <th>rule_set</th>\n",
       "      <th>rule</th>\n",
       "      <th>smarts</th>\n",
       "    </tr>\n",
       "  </thead>\n",
       "  <tbody>\n",
       "    <tr>\n",
       "      <th>0</th>\n",
       "      <td>Nc1ccc(S(=O)(=O)Nc2ccccn2)cc1</td>\n",
       "      <td>CHEMBL700</td>\n",
       "      <td>ok</td>\n",
       "      <td>ok</td>\n",
       "      <td>ok</td>\n",
       "    </tr>\n",
       "    <tr>\n",
       "      <th>1</th>\n",
       "      <td>CCC(C)C1(CC)C(=O)[N-]C(=O)NC1=O.[Na+]</td>\n",
       "      <td>CHEMBL1200982</td>\n",
       "      <td>ok</td>\n",
       "      <td>ok</td>\n",
       "      <td>ok</td>\n",
       "    </tr>\n",
       "    <tr>\n",
       "      <th>2</th>\n",
       "      <td>Cl.N=C(N)N</td>\n",
       "      <td>CHEMBL1200728</td>\n",
       "      <td>ok</td>\n",
       "      <td>ok</td>\n",
       "      <td>ok</td>\n",
       "    </tr>\n",
       "    <tr>\n",
       "      <th>3</th>\n",
       "      <td>CC1=CC(=O)c2ccccc2C1=O</td>\n",
       "      <td>CHEMBL590</td>\n",
       "      <td>Glaxo</td>\n",
       "      <td>N1 Quinones</td>\n",
       "      <td>O=C1[#6]~[#6]C(=O)[#6]~[#6]1</td>\n",
       "    </tr>\n",
       "    <tr>\n",
       "      <th>4</th>\n",
       "      <td>Cn1c(=O)c2[nH]cnc2n(C)c1=O.Cn1c(=O)c2[nH]cnc2n...</td>\n",
       "      <td>CHEMBL1370561</td>\n",
       "      <td>ok</td>\n",
       "      <td>ok</td>\n",
       "      <td>ok</td>\n",
       "    </tr>\n",
       "    <tr>\n",
       "      <th>...</th>\n",
       "      <td>...</td>\n",
       "      <td>...</td>\n",
       "      <td>...</td>\n",
       "      <td>...</td>\n",
       "      <td>...</td>\n",
       "    </tr>\n",
       "    <tr>\n",
       "      <th>1198</th>\n",
       "      <td>Cl.Cl.N#Cc1cccc(C(NCC2CC2)c2ccc(F)c(NC(=O)c3cc...</td>\n",
       "      <td>CHEMBL4594272</td>\n",
       "      <td>ok</td>\n",
       "      <td>ok</td>\n",
       "      <td>ok</td>\n",
       "    </tr>\n",
       "    <tr>\n",
       "      <th>1199</th>\n",
       "      <td>CN1CCC(COc2cnc(-c3cccc(Cn4nc(-c5cccc(C#N)c5)cc...</td>\n",
       "      <td>CHEMBL4594292</td>\n",
       "      <td>ok</td>\n",
       "      <td>ok</td>\n",
       "      <td>ok</td>\n",
       "    </tr>\n",
       "    <tr>\n",
       "      <th>1200</th>\n",
       "      <td>Nc1ncn([C@@H]2O[C@H](CO)[C@@H](O)[C@H]2O)c(=O)n1</td>\n",
       "      <td>CHEMBL1489</td>\n",
       "      <td>ok</td>\n",
       "      <td>ok</td>\n",
       "      <td>ok</td>\n",
       "    </tr>\n",
       "    <tr>\n",
       "      <th>1201</th>\n",
       "      <td>COC(=O)Nc1c(N)nc(-c2nn(Cc3ccccc3F)c3ncc(F)cc23...</td>\n",
       "      <td>CHEMBL4066936</td>\n",
       "      <td>ok</td>\n",
       "      <td>ok</td>\n",
       "      <td>ok</td>\n",
       "    </tr>\n",
       "    <tr>\n",
       "      <th>1202</th>\n",
       "      <td>CONC(=O)Nc1ccc(-c2sc3c(c2CN(C)C)c(=O)n(-c2ccc(...</td>\n",
       "      <td>CHEMBL1800159</td>\n",
       "      <td>ok</td>\n",
       "      <td>ok</td>\n",
       "      <td>ok</td>\n",
       "    </tr>\n",
       "  </tbody>\n",
       "</table>\n",
       "<p>1203 rows × 5 columns</p>\n",
       "</div>"
      ],
      "text/plain": [
       "                                                 SMILES           Name  \\\n",
       "0                         Nc1ccc(S(=O)(=O)Nc2ccccn2)cc1      CHEMBL700   \n",
       "1                 CCC(C)C1(CC)C(=O)[N-]C(=O)NC1=O.[Na+]  CHEMBL1200982   \n",
       "2                                            Cl.N=C(N)N  CHEMBL1200728   \n",
       "3                                CC1=CC(=O)c2ccccc2C1=O      CHEMBL590   \n",
       "4     Cn1c(=O)c2[nH]cnc2n(C)c1=O.Cn1c(=O)c2[nH]cnc2n...  CHEMBL1370561   \n",
       "...                                                 ...            ...   \n",
       "1198  Cl.Cl.N#Cc1cccc(C(NCC2CC2)c2ccc(F)c(NC(=O)c3cc...  CHEMBL4594272   \n",
       "1199  CN1CCC(COc2cnc(-c3cccc(Cn4nc(-c5cccc(C#N)c5)cc...  CHEMBL4594292   \n",
       "1200   Nc1ncn([C@@H]2O[C@H](CO)[C@@H](O)[C@H]2O)c(=O)n1     CHEMBL1489   \n",
       "1201  COC(=O)Nc1c(N)nc(-c2nn(Cc3ccccc3F)c3ncc(F)cc23...  CHEMBL4066936   \n",
       "1202  CONC(=O)Nc1ccc(-c2sc3c(c2CN(C)C)c(=O)n(-c2ccc(...  CHEMBL1800159   \n",
       "\n",
       "     rule_set         rule                        smarts  \n",
       "0          ok           ok                            ok  \n",
       "1          ok           ok                            ok  \n",
       "2          ok           ok                            ok  \n",
       "3       Glaxo  N1 Quinones  O=C1[#6]~[#6]C(=O)[#6]~[#6]1  \n",
       "4          ok           ok                            ok  \n",
       "...       ...          ...                           ...  \n",
       "1198       ok           ok                            ok  \n",
       "1199       ok           ok                            ok  \n",
       "1200       ok           ok                            ok  \n",
       "1201       ok           ok                            ok  \n",
       "1202       ok           ok                            ok  \n",
       "\n",
       "[1203 rows x 5 columns]"
      ]
     },
     "execution_count": 7,
     "metadata": {},
     "output_type": "execute_result"
    }
   ],
   "source": [
    "df"
   ]
  },
  {
   "cell_type": "markdown",
   "metadata": {},
   "source": [
    "Summarize the data and put it into a list of lists that we'll use for the visualization. "
   ]
  },
  {
   "cell_type": "code",
   "execution_count": 8,
   "metadata": {
    "pycharm": {
     "name": "#%%\n"
    }
   },
   "outputs": [],
   "source": [
    "vc = df.query(\"rule != 'ok'\").rule.value_counts()\n",
    "rule_freq = vc.reset_index().values.tolist()\n",
    "rule_freq = [(f\"{a} ({b})\",[a,b]) for a,b in rule_freq]"
   ]
  },
  {
   "cell_type": "markdown",
   "metadata": {},
   "source": [
    "Set up the interactive visualization.  The trick here is setting up the **observe** method on the **rule_selector**, which contains the rules and the number of molecules matching the rule.  Every time the selection in **rule_selector** changes, we update the range for the **mol_selector** range slider below it. \n",
    "* Use the menu below to examine molecules matching specific functional group filters\n",
    "* Use the slider below the menu to examine specific molecules.  You can also click on the slider then use the left and right arrow keys to move through the molecules. "
   ]
  },
  {
   "cell_type": "code",
   "execution_count": 9,
   "metadata": {
    "pycharm": {
     "name": "#%%\n"
    }
   },
   "outputs": [
    {
     "data": {
      "application/vnd.jupyter.widget-view+json": {
       "model_id": "1c24e41e963e48fe88308bb6e98fa227",
       "version_major": 2,
       "version_minor": 0
      },
      "text/plain": [
       "interactive(children=(Dropdown(description='Rule:', layout=Layout(width='initial'), options=(('I16 Betalactams…"
      ]
     },
     "metadata": {},
     "output_type": "display_data"
    }
   ],
   "source": [
    "rule_selector = Dropdown(layout={'width': 'initial'},options=rule_freq,\n",
    "                         description=\"Rule:\")\n",
    "mol_selector = IntSlider(min=0,max=rule_freq[0][1][1]-1,\n",
    "                        description=\"Molecule:\")\n",
    "\n",
    "def update_slider_range(*args):\n",
    "    mol_selector.max = rule_selector.value[1]-1\n",
    "    mol_selector.value = 0\n",
    "\n",
    "rule_selector.observe(update_slider_range,'value')\n",
    "\n",
    "def foo(x,y):\n",
    "    match_df = df.query(\"rule == @x\")\n",
    "    row = match_df.iloc[y]\n",
    "    return dm.viz.lasso_highlight_image(target_molecules=row.SMILES,search_molecules=row.smarts,use_svg=False)\n",
    "interact(foo,x=rule_selector, y=mol_selector);"
   ]
  },
  {
   "cell_type": "markdown",
   "metadata": {},
   "source": [
    "This cell is similar to the cell above except that it displays up to 6 molecules and the substructure matching the alert.  Use the menu to examine molecules matching the alerts.  "
   ]
  },
  {
   "cell_type": "code",
   "execution_count": 10,
   "metadata": {},
   "outputs": [
    {
     "data": {
      "application/vnd.jupyter.widget-view+json": {
       "model_id": "7528134e40ca4c0b8d259d30e29fd938",
       "version_major": 2,
       "version_minor": 0
      },
      "text/plain": [
       "interactive(children=(Dropdown(description='Rule:', layout=Layout(width='initial'), options=(('I16 Betalactams…"
      ]
     },
     "metadata": {},
     "output_type": "display_data"
    }
   ],
   "source": [
    "rule_selector = Dropdown(layout={'width': 'initial'},options=rule_freq,\n",
    "                         description=\"Rule:\")\n",
    "def show_grid(x):\n",
    "    match_df = df.query(\"rule == @x\")\n",
    "    mols_to_show = min(len(match_df),6)\n",
    "    smiles_list = match_df.SMILES.tolist()[:mols_to_show]\n",
    "    name_list = match_df.Name.tolist()[:mols_to_show]\n",
    "    smarts_list = match_df.smarts.tolist()[0]\n",
    "    return dm.viz.lasso_highlight_image(target_molecules=smiles_list,\n",
    "                                        search_molecules=smarts_list,\n",
    "                                        legends=name_list,\n",
    "                                        n_cols=3,\n",
    "                                        color_list = [(1.0,0.0,0.0)]*len(smiles_list),\n",
    "                                        use_svg=False)\n",
    "    \n",
    "interact(show_grid,x=rule_selector);"
   ]
  },
  {
   "cell_type": "code",
   "execution_count": null,
   "metadata": {},
   "outputs": [],
   "source": []
  }
 ],
 "metadata": {
  "kernelspec": {
   "display_name": "Python 3 (ipykernel)",
   "language": "python",
   "name": "python3"
  },
  "language_info": {
   "codemirror_mode": {
    "name": "ipython",
    "version": 3
   },
   "file_extension": ".py",
   "mimetype": "text/x-python",
   "name": "python",
   "nbconvert_exporter": "python",
   "pygments_lexer": "ipython3",
   "version": "3.11.3"
  }
 },
 "nbformat": 4,
 "nbformat_minor": 1
}
