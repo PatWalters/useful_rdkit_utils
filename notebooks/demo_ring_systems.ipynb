{
 "cells": [
  {
   "cell_type": "code",
   "execution_count": 1,
   "id": "e07ec554",
   "metadata": {
    "pycharm": {
     "name": "#%%\n"
    }
   },
   "outputs": [
    {
     "ename": "ModuleNotFoundError",
     "evalue": "No module named 'mols2grid'",
     "output_type": "error",
     "traceback": [
      "\u001b[0;31m---------------------------------------------------------------------------\u001b[0m",
      "\u001b[0;31mModuleNotFoundError\u001b[0m                       Traceback (most recent call last)",
      "Cell \u001b[0;32mIn [1], line 8\u001b[0m\n\u001b[1;32m      6\u001b[0m \u001b[38;5;28;01mimport\u001b[39;00m \u001b[38;5;21;01mpandas\u001b[39;00m \u001b[38;5;28;01mas\u001b[39;00m \u001b[38;5;21;01mpd\u001b[39;00m\n\u001b[1;32m      7\u001b[0m \u001b[38;5;28;01mfrom\u001b[39;00m \u001b[38;5;21;01mcollections\u001b[39;00m \u001b[38;5;28;01mimport\u001b[39;00m Counter\n\u001b[0;32m----> 8\u001b[0m \u001b[38;5;28;01mimport\u001b[39;00m \u001b[38;5;21;01mmols2grid\u001b[39;00m\n",
      "\u001b[0;31mModuleNotFoundError\u001b[0m: No module named 'mols2grid'"
     ]
    }
   ],
   "source": [
    "from rdkit import Chem\n",
    "import useful_rdkit_utils as uru\n",
    "from rdkit.Chem.Draw import MolsToGridImage\n",
    "from rdkit.Chem.Scaffolds import MurckoScaffold\n",
    "import itertools\n",
    "import pandas as pd\n",
    "from collections import Counter\n",
    "import mols2grid"
   ]
  },
  {
   "cell_type": "markdown",
   "id": "2c96b962",
   "metadata": {
    "pycharm": {
     "name": "#%% md\n"
    }
   },
   "source": [
    "Set the default image size"
   ]
  },
  {
   "cell_type": "code",
   "execution_count": null,
   "id": "ded80292",
   "metadata": {
    "pycharm": {
     "name": "#%%\n"
    }
   },
   "outputs": [],
   "source": [
    "uru.rd_set_image_size(300,300)"
   ]
  },
  {
   "cell_type": "markdown",
   "id": "c53075f5",
   "metadata": {
    "pycharm": {
     "name": "#%% md\n"
    }
   },
   "source": [
    "Create a demo molecule"
   ]
  },
  {
   "cell_type": "code",
   "execution_count": null,
   "id": "dffae9f4",
   "metadata": {
    "pycharm": {
     "name": "#%%\n"
    }
   },
   "outputs": [],
   "source": [
    "smi = \"CCn1c(=O)/c(=C2\\Sc3ccccc3N2C)s/c1=C\\C1CCC[n+]2c1sc1ccccc12\"\n",
    "mol = Chem.MolFromSmiles(smi)\n",
    "mol"
   ]
  },
  {
   "cell_type": "markdown",
   "id": "3cea4605",
   "metadata": {
    "pycharm": {
     "name": "#%% md\n"
    }
   },
   "source": [
    "Instantiate a RingSystemFinder object"
   ]
  },
  {
   "cell_type": "code",
   "execution_count": null,
   "id": "282d63ff",
   "metadata": {
    "pycharm": {
     "name": "#%%\n"
    }
   },
   "outputs": [],
   "source": [
    "ring_system_finder = uru.RingSystemFinder()"
   ]
  },
  {
   "cell_type": "markdown",
   "id": "de114725",
   "metadata": {
    "pycharm": {
     "name": "#%% md\n"
    }
   },
   "source": [
    "In order to demo the algorithm, we'll walk through it step by step.  First, we'll tag the bonds that shouldn't be cleaved when identifying ring systems."
   ]
  },
  {
   "cell_type": "code",
   "execution_count": null,
   "id": "8d4b7784",
   "metadata": {
    "pycharm": {
     "name": "#%%\n"
    }
   },
   "outputs": [],
   "source": [
    "ring_system_finder.tag_bonds_to_preserve(mol)"
   ]
  },
  {
   "cell_type": "markdown",
   "id": "8c14d90a",
   "metadata": {
    "pycharm": {
     "name": "#%% md\n"
    }
   },
   "source": [
    "Now look at a structure with those bonds highlighted."
   ]
  },
  {
   "cell_type": "code",
   "execution_count": null,
   "id": "4450f0cb",
   "metadata": {
    "pycharm": {
     "name": "#%%\n"
    }
   },
   "outputs": [],
   "source": [
    "mol"
   ]
  },
  {
   "cell_type": "markdown",
   "id": "5699d696",
   "metadata": {
    "pycharm": {
     "name": "#%% md\n"
    }
   },
   "source": [
    "Next, we cleave the tagged bonds."
   ]
  },
  {
   "cell_type": "code",
   "execution_count": null,
   "id": "074befae",
   "metadata": {
    "pycharm": {
     "name": "#%%\n"
    }
   },
   "outputs": [],
   "source": [
    "m1 = ring_system_finder.cleave_linker_bonds(mol)\n",
    "m1"
   ]
  },
  {
   "cell_type": "markdown",
   "id": "a7fd7b17",
   "metadata": {
    "pycharm": {
     "name": "#%% md\n"
    }
   },
   "source": [
    "Now we can look at the ring systems."
   ]
  },
  {
   "cell_type": "code",
   "execution_count": null,
   "id": "97c26ac1",
   "metadata": {
    "pycharm": {
     "name": "#%%\n"
    }
   },
   "outputs": [],
   "source": [
    "rx = ring_system_finder.cleanup_fragments(m1)\n",
    "MolsToGridImage(rx)"
   ]
  },
  {
   "cell_type": "markdown",
   "id": "e9d33838",
   "metadata": {
    "pycharm": {
     "name": "#%% md\n"
    }
   },
   "source": [
    "That was just to show how the algorithm works.  Of course, this can also be done in one step."
   ]
  },
  {
   "cell_type": "code",
   "execution_count": null,
   "id": "7aba8b8c",
   "metadata": {
    "pycharm": {
     "name": "#%%\n"
    }
   },
   "outputs": [],
   "source": [
    "ring_system_list = ring_system_finder.find_ring_systems(mol, as_mols=True)\n",
    "MolsToGridImage(ring_system_list)"
   ]
  },
  {
   "cell_type": "code",
   "execution_count": null,
   "id": "f5a263b3",
   "metadata": {
    "pycharm": {
     "name": "#%%\n"
    }
   },
   "outputs": [],
   "source": [
    "ring_system_list_with_Rgroups = ring_system_finder.find_ring_systems(mol, as_mols=True, keep_dummy=True)\n",
    "MolsToGridImage(ring_system_list_with_Rgroups)"
   ]
  },
  {
   "cell_type": "code",
   "execution_count": null,
   "id": "cf76471a",
   "metadata": {
    "pycharm": {
     "name": "#%%\n"
    }
   },
   "outputs": [],
   "source": [
    "url = \"https://raw.githubusercontent.com/PatWalters/useful_rdkit_utils/master/data/test.smi\"\n",
    "df = pd.read_csv(url,sep=\" \",names=[\"SMILES\",\"Name\"])"
   ]
  },
  {
   "cell_type": "code",
   "execution_count": null,
   "id": "b611e673",
   "metadata": {
    "pycharm": {
     "name": "#%%\n"
    }
   },
   "outputs": [],
   "source": [
    "df"
   ]
  },
  {
   "cell_type": "code",
   "execution_count": null,
   "id": "90c97459",
   "metadata": {
    "pycharm": {
     "name": "#%%\n"
    }
   },
   "outputs": [],
   "source": [
    "ring_system_finder = uru.RingSystemFinder()\n",
    "df['mol'] = df.SMILES.apply(Chem.MolFromSmiles)\n",
    "df['ring_sytems'] = df.mol.apply(ring_system_finder.find_ring_systems)"
   ]
  },
  {
   "cell_type": "code",
   "execution_count": null,
   "id": "dac3ad66",
   "metadata": {
    "pycharm": {
     "name": "#%%\n"
    }
   },
   "outputs": [],
   "source": [
    "df.ring_sytems.values"
   ]
  },
  {
   "cell_type": "code",
   "execution_count": null,
   "id": "c81f6884",
   "metadata": {
    "pycharm": {
     "name": "#%%\n"
    }
   },
   "outputs": [],
   "source": [
    "ring_system_list = list(itertools.chain.from_iterable(df.ring_sytems.values))\n",
    "ring_count_df = pd.DataFrame(Counter(ring_system_list).items(),columns=[\"SMILES\",\"Count\"])\n",
    "ring_count_df.sort_values(\"Count\",ascending=False,inplace=True)"
   ]
  },
  {
   "cell_type": "code",
   "execution_count": null,
   "id": "c4e13ae8",
   "metadata": {
    "pycharm": {
     "name": "#%%\n"
    }
   },
   "outputs": [],
   "source": [
    "mols2grid.display(ring_count_df,subset=[\"img\",\"Count\"])"
   ]
  },
  {
   "cell_type": "code",
   "execution_count": null,
   "id": "bc55b126",
   "metadata": {
    "pycharm": {
     "name": "#%%\n"
    }
   },
   "outputs": [],
   "source": [
    "ring_system_lookup = uru.RingSystemLookup()\n",
    "res = df.SMILES.apply(ring_system_lookup.process_smiles)"
   ]
  },
  {
   "cell_type": "code",
   "execution_count": null,
   "id": "5ec19bdf",
   "metadata": {
    "pycharm": {
     "name": "#%%\n"
    }
   },
   "outputs": [],
   "source": [
    "res"
   ]
  },
  {
   "cell_type": "code",
   "execution_count": null,
   "id": "b65e8734",
   "metadata": {
    "pycharm": {
     "name": "#%%\n"
    }
   },
   "outputs": [],
   "source": [
    "df['ring_freq'] = res.apply(uru.get_min_ring_frequency)"
   ]
  },
  {
   "cell_type": "code",
   "execution_count": null,
   "id": "7749920f",
   "metadata": {
    "pycharm": {
     "name": "#%%\n"
    }
   },
   "outputs": [],
   "source": [
    "df"
   ]
  },
  {
   "cell_type": "code",
   "execution_count": null,
   "id": "c4d2e19a",
   "metadata": {
    "pycharm": {
     "name": "#%%\n"
    }
   },
   "outputs": [],
   "source": [
    "mols2grid.display(df,subset=[\"img\",\"ring_freq\"])"
   ]
  },
  {
   "cell_type": "code",
   "execution_count": null,
   "id": "2cc1982e",
   "metadata": {
    "pycharm": {
     "name": "#%%\n"
    }
   },
   "outputs": [],
   "source": []
  }
 ],
 "metadata": {
  "kernelspec": {
   "display_name": "Python 3 (ipykernel)",
   "language": "python",
   "name": "python3"
  },
  "language_info": {
   "codemirror_mode": {
    "name": "ipython",
    "version": 3
   },
   "file_extension": ".py",
   "mimetype": "text/x-python",
   "name": "python",
   "nbconvert_exporter": "python",
   "pygments_lexer": "ipython3",
   "version": "3.8.15"
  }
 },
 "nbformat": 4,
 "nbformat_minor": 5
}
