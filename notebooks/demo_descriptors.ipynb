{
 "cells": [
  {
   "cell_type": "code",
   "execution_count": 1,
   "id": "729a4c62",
   "metadata": {},
   "outputs": [],
   "source": [
    "import pandas as pd\n",
    "from rdkit import Chem\n",
    "from rdkit import DataStructs\n",
    "from rdkit.Chem import AllChem\n",
    "import numpy as np\n",
    "import useful_rdkit_utils as uru\n",
    "from tqdm.auto import tqdm\n",
    "import seaborn as sns"
   ]
  },
  {
   "cell_type": "markdown",
   "id": "34c38b52-6161-4320-bb9f-8ae73f3ef826",
   "metadata": {},
   "source": [
    "Enable Pandas **progress_apply**"
   ]
  },
  {
   "cell_type": "code",
   "execution_count": 2,
   "id": "dda2e7eb-2fb7-48b3-a7e4-12b02d3428bb",
   "metadata": {},
   "outputs": [],
   "source": [
    "tqdm.pandas()"
   ]
  },
  {
   "cell_type": "markdown",
   "id": "7b62997b-826e-4c18-9458-f7391520cc01",
   "metadata": {},
   "source": [
    "Read data"
   ]
  },
  {
   "cell_type": "code",
   "execution_count": 3,
   "id": "22869a47",
   "metadata": {},
   "outputs": [],
   "source": [
    "df = pd.read_csv(\"zinc_sample.smi\",sep=\" \",names=[\"SMILES\",\"Name\"])"
   ]
  },
  {
   "cell_type": "markdown",
   "id": "8dd9019e-5380-4b5a-aac7-037a00ed9f1f",
   "metadata": {},
   "source": [
    "Generate fingerprints as numpy arrays from SMILES"
   ]
  },
  {
   "cell_type": "code",
   "execution_count": 4,
   "id": "50f8e698",
   "metadata": {},
   "outputs": [
    {
     "data": {
      "application/vnd.jupyter.widget-view+json": {
       "model_id": "ae7b042c4c46402c985f84a2e6aabf52",
       "version_major": 2,
       "version_minor": 0
      },
      "text/plain": [
       "  0%|          | 0/10000 [00:00<?, ?it/s]"
      ]
     },
     "metadata": {},
     "output_type": "display_data"
    }
   ],
   "source": [
    "df['fp'] = df.SMILES.progress_apply(uru.smi2numpy_fp)"
   ]
  },
  {
   "cell_type": "markdown",
   "id": "844fc8a9-f28a-46e6-8ea2-b208af8550e4",
   "metadata": {},
   "source": [
    "Add an RDKit molecule column to a dataframe"
   ]
  },
  {
   "cell_type": "code",
   "execution_count": 5,
   "id": "bdfd1b81",
   "metadata": {},
   "outputs": [
    {
     "data": {
      "application/vnd.jupyter.widget-view+json": {
       "model_id": "b7964dfa6c134aa885a1ac935156b699",
       "version_major": 2,
       "version_minor": 0
      },
      "text/plain": [
       "  0%|          | 0/10000 [00:00<?, ?it/s]"
      ]
     },
     "metadata": {},
     "output_type": "display_data"
    }
   ],
   "source": [
    "df['mol'] = df.SMILES.progress_apply(Chem.MolFromSmiles)"
   ]
  },
  {
   "cell_type": "markdown",
   "id": "76def03b-06cc-4b46-98d7-ca493e3ea322",
   "metadata": {},
   "source": [
    "Calculate fingerprints as numpy arrays from RDKit molecules"
   ]
  },
  {
   "cell_type": "code",
   "execution_count": 6,
   "id": "b28feb3d-6cd4-4722-85c7-2b7f8810987f",
   "metadata": {},
   "outputs": [
    {
     "data": {
      "application/vnd.jupyter.widget-view+json": {
       "model_id": "34c5125b25e24d84a16be88123196016",
       "version_major": 2,
       "version_minor": 0
      },
      "text/plain": [
       "  0%|          | 0/10000 [00:00<?, ?it/s]"
      ]
     },
     "metadata": {},
     "output_type": "display_data"
    }
   ],
   "source": [
    "df['fp'] = df.mol.progress_apply(uru.mol2numpy_fp)"
   ]
  },
  {
   "cell_type": "markdown",
   "id": "43f3b8cd-64f1-4254-95fb-9b8d55af281b",
   "metadata": {},
   "source": [
    "Generate a Morgan fingerprint column from SMILES"
   ]
  },
  {
   "cell_type": "code",
   "execution_count": 7,
   "id": "ff78bf20-cb4e-4d81-9c2c-e8273a6f881b",
   "metadata": {},
   "outputs": [
    {
     "data": {
      "application/vnd.jupyter.widget-view+json": {
       "model_id": "c5f83925dcf84b529ab7a6e8ccc38c20",
       "version_major": 2,
       "version_minor": 0
      },
      "text/plain": [
       "  0%|          | 0/10000 [00:00<?, ?it/s]"
      ]
     },
     "metadata": {},
     "output_type": "display_data"
    }
   ],
   "source": [
    "df['morgan'] = df.SMILES.progress_apply(uru.smi2morgan_fp)"
   ]
  },
  {
   "cell_type": "markdown",
   "id": "a153b5bb-3648-4595-8ee9-8bff7fe3eb89",
   "metadata": {},
   "source": [
    "Calcuate the Tanimoto similarity of the first molecule in dataframe to all molecules in a dataframe. "
   ]
  },
  {
   "cell_type": "code",
   "execution_count": 8,
   "id": "4b3d9894-9ed6-4493-b2f8-0fe6f19fee74",
   "metadata": {},
   "outputs": [
    {
     "data": {
      "text/plain": [
       "<seaborn.axisgrid.FacetGrid at 0x28f203150>"
      ]
     },
     "execution_count": 8,
     "metadata": {},
     "output_type": "execute_result"
    },
    {
     "data": {
      "image/png": "[encoded data removed]",
      "text/plain": [
       "<Figure size 500x500 with 1 Axes>"
      ]
     },
     "metadata": {},
     "output_type": "display_data"
    }
   ],
   "source": [
    "sim_list = DataStructs.BulkTanimotoSimilarity(df.morgan[0],df.morgan)\n",
    "sns.displot(sim_list)"
   ]
  },
  {
   "cell_type": "markdown",
   "id": "bbceccf2-783a-4ba0-9542-b8a6e30c0109",
   "metadata": {},
   "source": [
    "Instantiate an **RDKitDescriptors** object"
   ]
  },
  {
   "cell_type": "code",
   "execution_count": 9,
   "id": "28691505-34d3-4565-a5e5-dde8645f6b77",
   "metadata": {},
   "outputs": [],
   "source": [
    "rdkit_desc = uru.RDKitDescriptors()"
   ]
  },
  {
   "cell_type": "markdown",
   "id": "72f44323-41f2-41fe-9409-6449da055dd7",
   "metadata": {},
   "source": [
    "Cacluate descriptors for a list of SMILES and return the result as a Pandas dataframe. "
   ]
  },
  {
   "cell_type": "code",
   "execution_count": 10,
   "id": "7fbe221c-ff35-44ff-91ac-456f30b2bcb3",
   "metadata": {},
   "outputs": [
    {
     "data": {
      "application/vnd.jupyter.widget-view+json": {
       "model_id": "6dc411f8e1a145739b74e02cbe6e154c",
       "version_major": 2,
       "version_minor": 0
      },
      "text/plain": [
       "  0%|          | 0/10000 [00:00<?, ?it/s]"
      ]
     },
     "metadata": {},
     "output_type": "display_data"
    }
   ],
   "source": [
    "desc_df = rdkit_desc.pandas_smiles(df.SMILES)"
   ]
  },
  {
   "cell_type": "markdown",
   "id": "e8f5a25d",
   "metadata": {},
   "source": [
    "We can use the pandas **concat** function to combine the new descriptor dataframe with columns from our original dataframe."
   ]
  },
  {
   "cell_type": "code",
   "execution_count": 11,
   "id": "32c37bf3-b859-4b97-93d9-8084327168d2",
   "metadata": {},
   "outputs": [
    {
     "data": {
      "text/html": [
       "<div>\n",
       "<style scoped>\n",
       "    .dataframe tbody tr th:only-of-type {\n",
       "        vertical-align: middle;\n",
       "    }\n",
       "\n",
       "    .dataframe tbody tr th {\n",
       "        vertical-align: top;\n",
       "    }\n",
       "\n",
       "    .dataframe thead th {\n",
       "        text-align: right;\n",
       "    }\n",
       "</style>\n",
       "<table border=\"1\" class=\"dataframe\">\n",
       "  <thead>\n",
       "    <tr style=\"text-align: right;\">\n",
       "      <th></th>\n",
       "      <th>SMILES</th>\n",
       "      <th>Name</th>\n",
       "      <th>AvgIpc</th>\n",
       "      <th>BCUT2D_CHGHI</th>\n",
       "      <th>BCUT2D_CHGLO</th>\n",
       "      <th>BCUT2D_LOGPHI</th>\n",
       "      <th>BCUT2D_LOGPLOW</th>\n",
       "      <th>BCUT2D_MRHI</th>\n",
       "      <th>BCUT2D_MRLOW</th>\n",
       "      <th>BCUT2D_MWHI</th>\n",
       "      <th>...</th>\n",
       "      <th>fr_sulfonamd</th>\n",
       "      <th>fr_sulfone</th>\n",
       "      <th>fr_term_acetylene</th>\n",
       "      <th>fr_tetrazole</th>\n",
       "      <th>fr_thiazole</th>\n",
       "      <th>fr_thiocyan</th>\n",
       "      <th>fr_thiophene</th>\n",
       "      <th>fr_unbrch_alkane</th>\n",
       "      <th>fr_urea</th>\n",
       "      <th>qed</th>\n",
       "    </tr>\n",
       "  </thead>\n",
       "  <tbody>\n",
       "    <tr>\n",
       "      <th>0</th>\n",
       "      <td>CC[C@@H]1CN(C(=O)[C@H](C)N2CCCCC2=O)C[C@H]1N1C...</td>\n",
       "      <td>107354824</td>\n",
       "      <td>3.058302</td>\n",
       "      <td>2.402503</td>\n",
       "      <td>-2.351561</td>\n",
       "      <td>2.268026</td>\n",
       "      <td>-2.512330</td>\n",
       "      <td>5.875189</td>\n",
       "      <td>-0.145800</td>\n",
       "      <td>16.477584</td>\n",
       "      <td>...</td>\n",
       "      <td>0.0</td>\n",
       "      <td>0.0</td>\n",
       "      <td>0.0</td>\n",
       "      <td>0.0</td>\n",
       "      <td>0.0</td>\n",
       "      <td>0.0</td>\n",
       "      <td>0.0</td>\n",
       "      <td>0.0</td>\n",
       "      <td>0.0</td>\n",
       "      <td>0.766635</td>\n",
       "    </tr>\n",
       "    <tr>\n",
       "      <th>1</th>\n",
       "      <td>CC(C)(CN1CCCN(C(=O)c2ccncc2)CC1)c1ccccc1</td>\n",
       "      <td>97033829</td>\n",
       "      <td>2.875795</td>\n",
       "      <td>2.261880</td>\n",
       "      <td>-2.322227</td>\n",
       "      <td>2.243828</td>\n",
       "      <td>-2.397661</td>\n",
       "      <td>5.935862</td>\n",
       "      <td>0.076003</td>\n",
       "      <td>16.152947</td>\n",
       "      <td>...</td>\n",
       "      <td>0.0</td>\n",
       "      <td>0.0</td>\n",
       "      <td>0.0</td>\n",
       "      <td>0.0</td>\n",
       "      <td>0.0</td>\n",
       "      <td>0.0</td>\n",
       "      <td>0.0</td>\n",
       "      <td>0.0</td>\n",
       "      <td>0.0</td>\n",
       "      <td>0.859482</td>\n",
       "    </tr>\n",
       "    <tr>\n",
       "      <th>2</th>\n",
       "      <td>CCc1ccccc1C(=O)NCc1nnc(C2CC2)n1C1CC1</td>\n",
       "      <td>97162066</td>\n",
       "      <td>3.508876</td>\n",
       "      <td>2.356858</td>\n",
       "      <td>-2.107162</td>\n",
       "      <td>2.441492</td>\n",
       "      <td>-2.254754</td>\n",
       "      <td>5.950977</td>\n",
       "      <td>0.094819</td>\n",
       "      <td>16.149188</td>\n",
       "      <td>...</td>\n",
       "      <td>0.0</td>\n",
       "      <td>0.0</td>\n",
       "      <td>0.0</td>\n",
       "      <td>0.0</td>\n",
       "      <td>0.0</td>\n",
       "      <td>0.0</td>\n",
       "      <td>0.0</td>\n",
       "      <td>0.0</td>\n",
       "      <td>0.0</td>\n",
       "      <td>0.892036</td>\n",
       "    </tr>\n",
       "    <tr>\n",
       "      <th>3</th>\n",
       "      <td>C[C@@]1(C(=O)O)CCN(C(=O)C2(c3ccc(F)cc3)CCOCC2)C1</td>\n",
       "      <td>237642238</td>\n",
       "      <td>2.990661</td>\n",
       "      <td>2.489292</td>\n",
       "      <td>-2.389722</td>\n",
       "      <td>2.397240</td>\n",
       "      <td>-2.496027</td>\n",
       "      <td>5.894082</td>\n",
       "      <td>-0.147875</td>\n",
       "      <td>19.142144</td>\n",
       "      <td>...</td>\n",
       "      <td>0.0</td>\n",
       "      <td>0.0</td>\n",
       "      <td>0.0</td>\n",
       "      <td>0.0</td>\n",
       "      <td>0.0</td>\n",
       "      <td>0.0</td>\n",
       "      <td>0.0</td>\n",
       "      <td>0.0</td>\n",
       "      <td>0.0</td>\n",
       "      <td>0.919485</td>\n",
       "    </tr>\n",
       "    <tr>\n",
       "      <th>4</th>\n",
       "      <td>CCOC(=O)c1sc(N2C(=O)C(=O)/C(=C(/O)c3ccc(OC(C)C...</td>\n",
       "      <td>102611003</td>\n",
       "      <td>3.361197</td>\n",
       "      <td>2.481865</td>\n",
       "      <td>-2.222012</td>\n",
       "      <td>2.433842</td>\n",
       "      <td>-2.289826</td>\n",
       "      <td>7.174628</td>\n",
       "      <td>-0.131996</td>\n",
       "      <td>32.133579</td>\n",
       "      <td>...</td>\n",
       "      <td>0.0</td>\n",
       "      <td>0.0</td>\n",
       "      <td>0.0</td>\n",
       "      <td>0.0</td>\n",
       "      <td>1.0</td>\n",
       "      <td>0.0</td>\n",
       "      <td>0.0</td>\n",
       "      <td>0.0</td>\n",
       "      <td>0.0</td>\n",
       "      <td>0.215823</td>\n",
       "    </tr>\n",
       "    <tr>\n",
       "      <th>...</th>\n",
       "      <td>...</td>\n",
       "      <td>...</td>\n",
       "      <td>...</td>\n",
       "      <td>...</td>\n",
       "      <td>...</td>\n",
       "      <td>...</td>\n",
       "      <td>...</td>\n",
       "      <td>...</td>\n",
       "      <td>...</td>\n",
       "      <td>...</td>\n",
       "      <td>...</td>\n",
       "      <td>...</td>\n",
       "      <td>...</td>\n",
       "      <td>...</td>\n",
       "      <td>...</td>\n",
       "      <td>...</td>\n",
       "      <td>...</td>\n",
       "      <td>...</td>\n",
       "      <td>...</td>\n",
       "      <td>...</td>\n",
       "      <td>...</td>\n",
       "    </tr>\n",
       "    <tr>\n",
       "      <th>9995</th>\n",
       "      <td>CCCCCCCCOC(=O)[C@H](C)OC(=O)CCC(=O)O[C@@H](C)C...</td>\n",
       "      <td>104049842</td>\n",
       "      <td>2.807120</td>\n",
       "      <td>2.221348</td>\n",
       "      <td>-2.138908</td>\n",
       "      <td>2.080463</td>\n",
       "      <td>-2.281311</td>\n",
       "      <td>5.826370</td>\n",
       "      <td>-0.169436</td>\n",
       "      <td>16.600705</td>\n",
       "      <td>...</td>\n",
       "      <td>0.0</td>\n",
       "      <td>0.0</td>\n",
       "      <td>0.0</td>\n",
       "      <td>0.0</td>\n",
       "      <td>0.0</td>\n",
       "      <td>0.0</td>\n",
       "      <td>0.0</td>\n",
       "      <td>10.0</td>\n",
       "      <td>0.0</td>\n",
       "      <td>0.119982</td>\n",
       "    </tr>\n",
       "    <tr>\n",
       "      <th>9996</th>\n",
       "      <td>COc1cccc(OC)c1C(=O)N[C@@H](C)c1cccnc1</td>\n",
       "      <td>74825532</td>\n",
       "      <td>2.540804</td>\n",
       "      <td>2.196604</td>\n",
       "      <td>-2.167138</td>\n",
       "      <td>2.282321</td>\n",
       "      <td>-2.271287</td>\n",
       "      <td>5.994747</td>\n",
       "      <td>0.093327</td>\n",
       "      <td>16.477202</td>\n",
       "      <td>...</td>\n",
       "      <td>0.0</td>\n",
       "      <td>0.0</td>\n",
       "      <td>0.0</td>\n",
       "      <td>0.0</td>\n",
       "      <td>0.0</td>\n",
       "      <td>0.0</td>\n",
       "      <td>0.0</td>\n",
       "      <td>0.0</td>\n",
       "      <td>0.0</td>\n",
       "      <td>0.917442</td>\n",
       "    </tr>\n",
       "    <tr>\n",
       "      <th>9997</th>\n",
       "      <td>CCOCCC1(C(=O)Nc2ccc3oc(=O)n(C)c3c2)CCCC1</td>\n",
       "      <td>96476086</td>\n",
       "      <td>3.151169</td>\n",
       "      <td>2.402326</td>\n",
       "      <td>-2.271992</td>\n",
       "      <td>2.418040</td>\n",
       "      <td>-2.346137</td>\n",
       "      <td>5.964737</td>\n",
       "      <td>-0.126081</td>\n",
       "      <td>16.472522</td>\n",
       "      <td>...</td>\n",
       "      <td>0.0</td>\n",
       "      <td>0.0</td>\n",
       "      <td>0.0</td>\n",
       "      <td>0.0</td>\n",
       "      <td>0.0</td>\n",
       "      <td>0.0</td>\n",
       "      <td>0.0</td>\n",
       "      <td>1.0</td>\n",
       "      <td>0.0</td>\n",
       "      <td>0.825211</td>\n",
       "    </tr>\n",
       "    <tr>\n",
       "      <th>9998</th>\n",
       "      <td>CCCC(=O)NC1=C(C(=O)OCC)C(=O)/C(=C/c2ccc(-c3ccc...</td>\n",
       "      <td>409082217</td>\n",
       "      <td>3.293775</td>\n",
       "      <td>2.356592</td>\n",
       "      <td>-2.058886</td>\n",
       "      <td>2.389789</td>\n",
       "      <td>-2.236499</td>\n",
       "      <td>8.079995</td>\n",
       "      <td>-0.139144</td>\n",
       "      <td>35.498263</td>\n",
       "      <td>...</td>\n",
       "      <td>0.0</td>\n",
       "      <td>0.0</td>\n",
       "      <td>0.0</td>\n",
       "      <td>0.0</td>\n",
       "      <td>0.0</td>\n",
       "      <td>0.0</td>\n",
       "      <td>0.0</td>\n",
       "      <td>0.0</td>\n",
       "      <td>0.0</td>\n",
       "      <td>0.315501</td>\n",
       "    </tr>\n",
       "    <tr>\n",
       "      <th>9999</th>\n",
       "      <td>CCOc1ccccc1NC(=O)[C@H]1CC(=O)N(c2cc(C)ccc2C)C1</td>\n",
       "      <td>4385157</td>\n",
       "      <td>3.005899</td>\n",
       "      <td>2.355076</td>\n",
       "      <td>-2.196204</td>\n",
       "      <td>2.303170</td>\n",
       "      <td>-2.283401</td>\n",
       "      <td>6.038204</td>\n",
       "      <td>-0.122075</td>\n",
       "      <td>16.477180</td>\n",
       "      <td>...</td>\n",
       "      <td>0.0</td>\n",
       "      <td>0.0</td>\n",
       "      <td>0.0</td>\n",
       "      <td>0.0</td>\n",
       "      <td>0.0</td>\n",
       "      <td>0.0</td>\n",
       "      <td>0.0</td>\n",
       "      <td>0.0</td>\n",
       "      <td>0.0</td>\n",
       "      <td>0.892647</td>\n",
       "    </tr>\n",
       "  </tbody>\n",
       "</table>\n",
       "<p>10000 rows × 212 columns</p>\n",
       "</div>"
      ],
      "text/plain": [
       "                                                 SMILES       Name    AvgIpc  \\\n",
       "0     CC[C@@H]1CN(C(=O)[C@H](C)N2CCCCC2=O)C[C@H]1N1C...  107354824  3.058302   \n",
       "1              CC(C)(CN1CCCN(C(=O)c2ccncc2)CC1)c1ccccc1   97033829  2.875795   \n",
       "2                  CCc1ccccc1C(=O)NCc1nnc(C2CC2)n1C1CC1   97162066  3.508876   \n",
       "3      C[C@@]1(C(=O)O)CCN(C(=O)C2(c3ccc(F)cc3)CCOCC2)C1  237642238  2.990661   \n",
       "4     CCOC(=O)c1sc(N2C(=O)C(=O)/C(=C(/O)c3ccc(OC(C)C...  102611003  3.361197   \n",
       "...                                                 ...        ...       ...   \n",
       "9995  CCCCCCCCOC(=O)[C@H](C)OC(=O)CCC(=O)O[C@@H](C)C...  104049842  2.807120   \n",
       "9996              COc1cccc(OC)c1C(=O)N[C@@H](C)c1cccnc1   74825532  2.540804   \n",
       "9997           CCOCCC1(C(=O)Nc2ccc3oc(=O)n(C)c3c2)CCCC1   96476086  3.151169   \n",
       "9998  CCCC(=O)NC1=C(C(=O)OCC)C(=O)/C(=C/c2ccc(-c3ccc...  409082217  3.293775   \n",
       "9999     CCOc1ccccc1NC(=O)[C@H]1CC(=O)N(c2cc(C)ccc2C)C1    4385157  3.005899   \n",
       "\n",
       "      BCUT2D_CHGHI  BCUT2D_CHGLO  BCUT2D_LOGPHI  BCUT2D_LOGPLOW  BCUT2D_MRHI  \\\n",
       "0         2.402503     -2.351561       2.268026       -2.512330     5.875189   \n",
       "1         2.261880     -2.322227       2.243828       -2.397661     5.935862   \n",
       "2         2.356858     -2.107162       2.441492       -2.254754     5.950977   \n",
       "3         2.489292     -2.389722       2.397240       -2.496027     5.894082   \n",
       "4         2.481865     -2.222012       2.433842       -2.289826     7.174628   \n",
       "...            ...           ...            ...             ...          ...   \n",
       "9995      2.221348     -2.138908       2.080463       -2.281311     5.826370   \n",
       "9996      2.196604     -2.167138       2.282321       -2.271287     5.994747   \n",
       "9997      2.402326     -2.271992       2.418040       -2.346137     5.964737   \n",
       "9998      2.356592     -2.058886       2.389789       -2.236499     8.079995   \n",
       "9999      2.355076     -2.196204       2.303170       -2.283401     6.038204   \n",
       "\n",
       "      BCUT2D_MRLOW  BCUT2D_MWHI  ...  fr_sulfonamd  fr_sulfone  \\\n",
       "0        -0.145800    16.477584  ...           0.0         0.0   \n",
       "1         0.076003    16.152947  ...           0.0         0.0   \n",
       "2         0.094819    16.149188  ...           0.0         0.0   \n",
       "3        -0.147875    19.142144  ...           0.0         0.0   \n",
       "4        -0.131996    32.133579  ...           0.0         0.0   \n",
       "...            ...          ...  ...           ...         ...   \n",
       "9995     -0.169436    16.600705  ...           0.0         0.0   \n",
       "9996      0.093327    16.477202  ...           0.0         0.0   \n",
       "9997     -0.126081    16.472522  ...           0.0         0.0   \n",
       "9998     -0.139144    35.498263  ...           0.0         0.0   \n",
       "9999     -0.122075    16.477180  ...           0.0         0.0   \n",
       "\n",
       "      fr_term_acetylene  fr_tetrazole  fr_thiazole  fr_thiocyan  fr_thiophene  \\\n",
       "0                   0.0           0.0          0.0          0.0           0.0   \n",
       "1                   0.0           0.0          0.0          0.0           0.0   \n",
       "2                   0.0           0.0          0.0          0.0           0.0   \n",
       "3                   0.0           0.0          0.0          0.0           0.0   \n",
       "4                   0.0           0.0          1.0          0.0           0.0   \n",
       "...                 ...           ...          ...          ...           ...   \n",
       "9995                0.0           0.0          0.0          0.0           0.0   \n",
       "9996                0.0           0.0          0.0          0.0           0.0   \n",
       "9997                0.0           0.0          0.0          0.0           0.0   \n",
       "9998                0.0           0.0          0.0          0.0           0.0   \n",
       "9999                0.0           0.0          0.0          0.0           0.0   \n",
       "\n",
       "      fr_unbrch_alkane  fr_urea       qed  \n",
       "0                  0.0      0.0  0.766635  \n",
       "1                  0.0      0.0  0.859482  \n",
       "2                  0.0      0.0  0.892036  \n",
       "3                  0.0      0.0  0.919485  \n",
       "4                  0.0      0.0  0.215823  \n",
       "...                ...      ...       ...  \n",
       "9995              10.0      0.0  0.119982  \n",
       "9996               0.0      0.0  0.917442  \n",
       "9997               1.0      0.0  0.825211  \n",
       "9998               0.0      0.0  0.315501  \n",
       "9999               0.0      0.0  0.892647  \n",
       "\n",
       "[10000 rows x 212 columns]"
      ]
     },
     "execution_count": 11,
     "metadata": {},
     "output_type": "execute_result"
    }
   ],
   "source": [
    "combo_df = pd.concat([df[[\"SMILES\",\"Name\"]],desc_df],axis=1)\n",
    "combo_df"
   ]
  },
  {
   "cell_type": "markdown",
   "id": "fbc1d3fc",
   "metadata": {},
   "source": [
    "The **RDKitDescriptors**, **RDKitProperties**, and **Ro5Calculator** classes have a bit of error handling built in.  If any of these get and invalid molecule or SMILES, they reuturn a numpy array of [None]. Here's an example. "
   ]
  },
  {
   "cell_type": "code",
   "execution_count": 15,
   "id": "bc2cbf46-9bbd-411a-b876-0ba174a1ae46",
   "metadata": {},
   "outputs": [
    {
     "data": {
      "text/html": [
       "<div>\n",
       "<style scoped>\n",
       "    .dataframe tbody tr th:only-of-type {\n",
       "        vertical-align: middle;\n",
       "    }\n",
       "\n",
       "    .dataframe tbody tr th {\n",
       "        vertical-align: top;\n",
       "    }\n",
       "\n",
       "    .dataframe thead th {\n",
       "        text-align: right;\n",
       "    }\n",
       "</style>\n",
       "<table border=\"1\" class=\"dataframe\">\n",
       "  <thead>\n",
       "    <tr style=\"text-align: right;\">\n",
       "      <th></th>\n",
       "      <th>SMILES</th>\n",
       "      <th>Name</th>\n",
       "    </tr>\n",
       "  </thead>\n",
       "  <tbody>\n",
       "    <tr>\n",
       "      <th>0</th>\n",
       "      <td>CCCC</td>\n",
       "      <td>butane</td>\n",
       "    </tr>\n",
       "    <tr>\n",
       "      <th>1</th>\n",
       "      <td>xyz</td>\n",
       "      <td>junk</td>\n",
       "    </tr>\n",
       "    <tr>\n",
       "      <th>2</th>\n",
       "      <td>c1ccccc1C</td>\n",
       "      <td>toluene</td>\n",
       "    </tr>\n",
       "    <tr>\n",
       "      <th>3</th>\n",
       "      <td>CCO</td>\n",
       "      <td>ethanol</td>\n",
       "    </tr>\n",
       "  </tbody>\n",
       "</table>\n",
       "</div>"
      ],
      "text/plain": [
       "      SMILES     Name\n",
       "0       CCCC   butane\n",
       "1        xyz     junk\n",
       "2  c1ccccc1C  toluene\n",
       "3        CCO  ethanol"
      ]
     },
     "execution_count": 15,
     "metadata": {},
     "output_type": "execute_result"
    }
   ],
   "source": [
    "error_df = pd.DataFrame({\"SMILES\" : [\"CCCC\",\"xyz\",\"c1ccccc1C\",\"CCO\"],\n",
    "                        \"Name\": [\"butane\",\"junk\",\"toluene\",\"ethanol\"]})\n",
    "error_df"
   ]
  },
  {
   "cell_type": "markdown",
   "id": "71acb956",
   "metadata": {},
   "source": [
    "Note how the second row is all **None**"
   ]
  },
  {
   "cell_type": "code",
   "execution_count": 16,
   "id": "2eb2c4f8-23f9-4689-ad3c-03f1d43023ae",
   "metadata": {},
   "outputs": [
    {
     "data": {
      "application/vnd.jupyter.widget-view+json": {
       "model_id": "6bbfaee8564b48a284944f398bb105f9",
       "version_major": 2,
       "version_minor": 0
      },
      "text/plain": [
       "  0%|          | 0/4 [00:00<?, ?it/s]"
      ]
     },
     "metadata": {},
     "output_type": "display_data"
    },
    {
     "name": "stderr",
     "output_type": "stream",
     "text": [
      "[08:57:46] SMILES Parse Error: syntax error while parsing: xyz\n",
      "[08:57:46] SMILES Parse Error: Failed parsing SMILES 'xyz' for input: 'xyz'\n"
     ]
    },
    {
     "data": {
      "text/html": [
       "<div>\n",
       "<style scoped>\n",
       "    .dataframe tbody tr th:only-of-type {\n",
       "        vertical-align: middle;\n",
       "    }\n",
       "\n",
       "    .dataframe tbody tr th {\n",
       "        vertical-align: top;\n",
       "    }\n",
       "\n",
       "    .dataframe thead th {\n",
       "        text-align: right;\n",
       "    }\n",
       "</style>\n",
       "<table border=\"1\" class=\"dataframe\">\n",
       "  <thead>\n",
       "    <tr style=\"text-align: right;\">\n",
       "      <th></th>\n",
       "      <th>AvgIpc</th>\n",
       "      <th>BCUT2D_CHGHI</th>\n",
       "      <th>BCUT2D_CHGLO</th>\n",
       "      <th>BCUT2D_LOGPHI</th>\n",
       "      <th>BCUT2D_LOGPLOW</th>\n",
       "      <th>BCUT2D_MRHI</th>\n",
       "      <th>BCUT2D_MRLOW</th>\n",
       "      <th>BCUT2D_MWHI</th>\n",
       "      <th>BCUT2D_MWLOW</th>\n",
       "      <th>BalabanJ</th>\n",
       "      <th>...</th>\n",
       "      <th>fr_sulfonamd</th>\n",
       "      <th>fr_sulfone</th>\n",
       "      <th>fr_term_acetylene</th>\n",
       "      <th>fr_tetrazole</th>\n",
       "      <th>fr_thiazole</th>\n",
       "      <th>fr_thiocyan</th>\n",
       "      <th>fr_thiophene</th>\n",
       "      <th>fr_unbrch_alkane</th>\n",
       "      <th>fr_urea</th>\n",
       "      <th>qed</th>\n",
       "    </tr>\n",
       "  </thead>\n",
       "  <tbody>\n",
       "    <tr>\n",
       "      <th>0</th>\n",
       "      <td>1.370951</td>\n",
       "      <td>1.560299</td>\n",
       "      <td>-1.676333</td>\n",
       "      <td>1.763305</td>\n",
       "      <td>-1.473316</td>\n",
       "      <td>4.122205</td>\n",
       "      <td>0.885584</td>\n",
       "      <td>13.630205</td>\n",
       "      <td>10.393584</td>\n",
       "      <td>1.974745</td>\n",
       "      <td>...</td>\n",
       "      <td>0.0</td>\n",
       "      <td>0.0</td>\n",
       "      <td>0.0</td>\n",
       "      <td>0.0</td>\n",
       "      <td>0.0</td>\n",
       "      <td>0.0</td>\n",
       "      <td>0.0</td>\n",
       "      <td>0.0</td>\n",
       "      <td>0.0</td>\n",
       "      <td>0.431024</td>\n",
       "    </tr>\n",
       "    <tr>\n",
       "      <th>1</th>\n",
       "      <td>NaN</td>\n",
       "      <td>NaN</td>\n",
       "      <td>NaN</td>\n",
       "      <td>NaN</td>\n",
       "      <td>NaN</td>\n",
       "      <td>NaN</td>\n",
       "      <td>NaN</td>\n",
       "      <td>NaN</td>\n",
       "      <td>NaN</td>\n",
       "      <td>NaN</td>\n",
       "      <td>...</td>\n",
       "      <td>NaN</td>\n",
       "      <td>NaN</td>\n",
       "      <td>NaN</td>\n",
       "      <td>NaN</td>\n",
       "      <td>NaN</td>\n",
       "      <td>NaN</td>\n",
       "      <td>NaN</td>\n",
       "      <td>NaN</td>\n",
       "      <td>NaN</td>\n",
       "      <td>NaN</td>\n",
       "    </tr>\n",
       "    <tr>\n",
       "      <th>2</th>\n",
       "      <td>1.685616</td>\n",
       "      <td>1.715255</td>\n",
       "      <td>-1.822324</td>\n",
       "      <td>1.916279</td>\n",
       "      <td>-1.622156</td>\n",
       "      <td>5.111827</td>\n",
       "      <td>1.475757</td>\n",
       "      <td>13.782105</td>\n",
       "      <td>10.244626</td>\n",
       "      <td>3.021465</td>\n",
       "      <td>...</td>\n",
       "      <td>0.0</td>\n",
       "      <td>0.0</td>\n",
       "      <td>0.0</td>\n",
       "      <td>0.0</td>\n",
       "      <td>0.0</td>\n",
       "      <td>0.0</td>\n",
       "      <td>0.0</td>\n",
       "      <td>0.0</td>\n",
       "      <td>0.0</td>\n",
       "      <td>0.458806</td>\n",
       "    </tr>\n",
       "    <tr>\n",
       "      <th>3</th>\n",
       "      <td>0.918296</td>\n",
       "      <td>1.340294</td>\n",
       "      <td>-1.522359</td>\n",
       "      <td>1.296243</td>\n",
       "      <td>-1.568364</td>\n",
       "      <td>3.835802</td>\n",
       "      <td>0.318406</td>\n",
       "      <td>16.248991</td>\n",
       "      <td>10.908168</td>\n",
       "      <td>1.632993</td>\n",
       "      <td>...</td>\n",
       "      <td>0.0</td>\n",
       "      <td>0.0</td>\n",
       "      <td>0.0</td>\n",
       "      <td>0.0</td>\n",
       "      <td>0.0</td>\n",
       "      <td>0.0</td>\n",
       "      <td>0.0</td>\n",
       "      <td>0.0</td>\n",
       "      <td>0.0</td>\n",
       "      <td>0.406808</td>\n",
       "    </tr>\n",
       "  </tbody>\n",
       "</table>\n",
       "<p>4 rows × 210 columns</p>\n",
       "</div>"
      ],
      "text/plain": [
       "     AvgIpc  BCUT2D_CHGHI  BCUT2D_CHGLO  BCUT2D_LOGPHI  BCUT2D_LOGPLOW  \\\n",
       "0  1.370951      1.560299     -1.676333       1.763305       -1.473316   \n",
       "1       NaN           NaN           NaN            NaN             NaN   \n",
       "2  1.685616      1.715255     -1.822324       1.916279       -1.622156   \n",
       "3  0.918296      1.340294     -1.522359       1.296243       -1.568364   \n",
       "\n",
       "   BCUT2D_MRHI  BCUT2D_MRLOW  BCUT2D_MWHI  BCUT2D_MWLOW  BalabanJ  ...  \\\n",
       "0     4.122205      0.885584    13.630205     10.393584  1.974745  ...   \n",
       "1          NaN           NaN          NaN           NaN       NaN  ...   \n",
       "2     5.111827      1.475757    13.782105     10.244626  3.021465  ...   \n",
       "3     3.835802      0.318406    16.248991     10.908168  1.632993  ...   \n",
       "\n",
       "   fr_sulfonamd  fr_sulfone  fr_term_acetylene  fr_tetrazole  fr_thiazole  \\\n",
       "0           0.0         0.0                0.0           0.0          0.0   \n",
       "1           NaN         NaN                NaN           NaN          NaN   \n",
       "2           0.0         0.0                0.0           0.0          0.0   \n",
       "3           0.0         0.0                0.0           0.0          0.0   \n",
       "\n",
       "   fr_thiocyan  fr_thiophene  fr_unbrch_alkane  fr_urea       qed  \n",
       "0          0.0           0.0               0.0      0.0  0.431024  \n",
       "1          NaN           NaN               NaN      NaN       NaN  \n",
       "2          0.0           0.0               0.0      0.0  0.458806  \n",
       "3          0.0           0.0               0.0      0.0  0.406808  \n",
       "\n",
       "[4 rows x 210 columns]"
      ]
     },
     "execution_count": 16,
     "metadata": {},
     "output_type": "execute_result"
    }
   ],
   "source": [
    "error_smi_desc = rdkit_desc.pandas_smiles(error_df.SMILES)\n",
    "error_smi_desc "
   ]
  },
  {
   "cell_type": "markdown",
   "id": "f64e64a0",
   "metadata": {},
   "source": [
    "We can drop the error rows with **dropna**"
   ]
  },
  {
   "cell_type": "code",
   "execution_count": 14,
   "id": "51334c65-28a2-490d-86c1-74c0761f4938",
   "metadata": {},
   "outputs": [
    {
     "data": {
      "text/html": [
       "<div>\n",
       "<style scoped>\n",
       "    .dataframe tbody tr th:only-of-type {\n",
       "        vertical-align: middle;\n",
       "    }\n",
       "\n",
       "    .dataframe tbody tr th {\n",
       "        vertical-align: top;\n",
       "    }\n",
       "\n",
       "    .dataframe thead th {\n",
       "        text-align: right;\n",
       "    }\n",
       "</style>\n",
       "<table border=\"1\" class=\"dataframe\">\n",
       "  <thead>\n",
       "    <tr style=\"text-align: right;\">\n",
       "      <th></th>\n",
       "      <th>SMILES</th>\n",
       "      <th>Name</th>\n",
       "      <th>AvgIpc</th>\n",
       "      <th>BCUT2D_CHGHI</th>\n",
       "      <th>BCUT2D_CHGLO</th>\n",
       "      <th>BCUT2D_LOGPHI</th>\n",
       "      <th>BCUT2D_LOGPLOW</th>\n",
       "      <th>BCUT2D_MRHI</th>\n",
       "      <th>BCUT2D_MRLOW</th>\n",
       "      <th>BCUT2D_MWHI</th>\n",
       "      <th>...</th>\n",
       "      <th>fr_sulfonamd</th>\n",
       "      <th>fr_sulfone</th>\n",
       "      <th>fr_term_acetylene</th>\n",
       "      <th>fr_tetrazole</th>\n",
       "      <th>fr_thiazole</th>\n",
       "      <th>fr_thiocyan</th>\n",
       "      <th>fr_thiophene</th>\n",
       "      <th>fr_unbrch_alkane</th>\n",
       "      <th>fr_urea</th>\n",
       "      <th>qed</th>\n",
       "    </tr>\n",
       "  </thead>\n",
       "  <tbody>\n",
       "    <tr>\n",
       "      <th>0</th>\n",
       "      <td>CCCC</td>\n",
       "      <td>butane</td>\n",
       "      <td>1.370951</td>\n",
       "      <td>1.560299</td>\n",
       "      <td>-1.676333</td>\n",
       "      <td>1.763305</td>\n",
       "      <td>-1.473316</td>\n",
       "      <td>4.122205</td>\n",
       "      <td>0.885584</td>\n",
       "      <td>13.630205</td>\n",
       "      <td>...</td>\n",
       "      <td>0.0</td>\n",
       "      <td>0.0</td>\n",
       "      <td>0.0</td>\n",
       "      <td>0.0</td>\n",
       "      <td>0.0</td>\n",
       "      <td>0.0</td>\n",
       "      <td>0.0</td>\n",
       "      <td>0.0</td>\n",
       "      <td>0.0</td>\n",
       "      <td>0.431024</td>\n",
       "    </tr>\n",
       "    <tr>\n",
       "      <th>2</th>\n",
       "      <td>c1ccccc1C</td>\n",
       "      <td>toluene</td>\n",
       "      <td>1.685616</td>\n",
       "      <td>1.715255</td>\n",
       "      <td>-1.822324</td>\n",
       "      <td>1.916279</td>\n",
       "      <td>-1.622156</td>\n",
       "      <td>5.111827</td>\n",
       "      <td>1.475757</td>\n",
       "      <td>13.782105</td>\n",
       "      <td>...</td>\n",
       "      <td>0.0</td>\n",
       "      <td>0.0</td>\n",
       "      <td>0.0</td>\n",
       "      <td>0.0</td>\n",
       "      <td>0.0</td>\n",
       "      <td>0.0</td>\n",
       "      <td>0.0</td>\n",
       "      <td>0.0</td>\n",
       "      <td>0.0</td>\n",
       "      <td>0.458806</td>\n",
       "    </tr>\n",
       "    <tr>\n",
       "      <th>3</th>\n",
       "      <td>CCO</td>\n",
       "      <td>ethanol</td>\n",
       "      <td>0.918296</td>\n",
       "      <td>1.340294</td>\n",
       "      <td>-1.522359</td>\n",
       "      <td>1.296243</td>\n",
       "      <td>-1.568364</td>\n",
       "      <td>3.835802</td>\n",
       "      <td>0.318406</td>\n",
       "      <td>16.248991</td>\n",
       "      <td>...</td>\n",
       "      <td>0.0</td>\n",
       "      <td>0.0</td>\n",
       "      <td>0.0</td>\n",
       "      <td>0.0</td>\n",
       "      <td>0.0</td>\n",
       "      <td>0.0</td>\n",
       "      <td>0.0</td>\n",
       "      <td>0.0</td>\n",
       "      <td>0.0</td>\n",
       "      <td>0.406808</td>\n",
       "    </tr>\n",
       "  </tbody>\n",
       "</table>\n",
       "<p>3 rows × 212 columns</p>\n",
       "</div>"
      ],
      "text/plain": [
       "      SMILES     Name    AvgIpc  BCUT2D_CHGHI  BCUT2D_CHGLO  BCUT2D_LOGPHI  \\\n",
       "0       CCCC   butane  1.370951      1.560299     -1.676333       1.763305   \n",
       "2  c1ccccc1C  toluene  1.685616      1.715255     -1.822324       1.916279   \n",
       "3        CCO  ethanol  0.918296      1.340294     -1.522359       1.296243   \n",
       "\n",
       "   BCUT2D_LOGPLOW  BCUT2D_MRHI  BCUT2D_MRLOW  BCUT2D_MWHI  ...  fr_sulfonamd  \\\n",
       "0       -1.473316     4.122205      0.885584    13.630205  ...           0.0   \n",
       "2       -1.622156     5.111827      1.475757    13.782105  ...           0.0   \n",
       "3       -1.568364     3.835802      0.318406    16.248991  ...           0.0   \n",
       "\n",
       "   fr_sulfone  fr_term_acetylene  fr_tetrazole  fr_thiazole  fr_thiocyan  \\\n",
       "0         0.0                0.0           0.0          0.0          0.0   \n",
       "2         0.0                0.0           0.0          0.0          0.0   \n",
       "3         0.0                0.0           0.0          0.0          0.0   \n",
       "\n",
       "   fr_thiophene  fr_unbrch_alkane  fr_urea       qed  \n",
       "0           0.0               0.0      0.0  0.431024  \n",
       "2           0.0               0.0      0.0  0.458806  \n",
       "3           0.0               0.0      0.0  0.406808  \n",
       "\n",
       "[3 rows x 212 columns]"
      ]
     },
     "execution_count": 14,
     "metadata": {},
     "output_type": "execute_result"
    }
   ],
   "source": [
    "pd.concat([error_df, error_smi_desc],axis=1).dropna()"
   ]
  },
  {
   "cell_type": "code",
   "execution_count": null,
   "id": "7d56238a-c6ab-4a8a-bbf0-25c5e0820769",
   "metadata": {},
   "outputs": [],
   "source": []
  }
 ],
 "metadata": {
  "kernelspec": {
   "display_name": "Python 3 (ipykernel)",
   "language": "python",
   "name": "python3"
  },
  "language_info": {
   "codemirror_mode": {
    "name": "ipython",
    "version": 3
   },
   "file_extension": ".py",
   "mimetype": "text/x-python",
   "name": "python",
   "nbconvert_exporter": "python",
   "pygments_lexer": "ipython3",
   "version": "3.11.3"
  }
 },
 "nbformat": 4,
 "nbformat_minor": 5
}
