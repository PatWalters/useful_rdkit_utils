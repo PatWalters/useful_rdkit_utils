{
 "cells": [
  {
   "cell_type": "code",
   "execution_count": 1,
   "id": "fd31b8b1-4a26-483a-8c03-a983c95533ba",
   "metadata": {},
   "outputs": [],
   "source": [
    "from parallel_pandas import ParallelPandas\n",
    "import useful_rdkit_utils as uru\n",
    "import pandas as pd\n",
    "from rdkit.Chem import PandasTools\n",
    "from rdkit.Chem.rdMolDescriptors import CalcNumUnspecifiedAtomStereoCenters"
   ]
  },
  {
   "cell_type": "markdown",
   "id": "1aab8294-1713-4dd9-933a-6bce9f3eac31",
   "metadata": {},
   "source": [
    "`Read some data"
   ]
  },
  {
   "cell_type": "code",
   "execution_count": 2,
   "id": "0f82db9a-d462-42cb-a017-0d704dc6b140",
   "metadata": {},
   "outputs": [],
   "source": [
    "df = pd.read_csv(\"https://raw.githubusercontent.com/molecularinformatics/Computational-ADME/refs/heads/main/ADME_public_set_3521.csv\")"
   ]
  },
  {
   "cell_type": "markdown",
   "id": "8905aec2-bbc1-472b-ad6a-793a7250dd62",
   "metadata": {},
   "source": [
    "Add a molecule column"
   ]
  },
  {
   "cell_type": "code",
   "execution_count": 3,
   "id": "9a6cbdbc-b139-4396-acdd-1ae9151f03dc",
   "metadata": {},
   "outputs": [],
   "source": [
    "PandasTools.AddMoleculeColumnToFrame(df,smilesCol=\"SMILES\")"
   ]
  },
  {
   "cell_type": "markdown",
   "id": "b6e5229a-92b0-488f-a448-d2d5b87184ce",
   "metadata": {},
   "source": [
    "Calculate the nummber of unspecified stereocenters in each molecule"
   ]
  },
  {
   "cell_type": "code",
   "execution_count": 4,
   "id": "26248a7a-99c4-4cb4-9071-f8d0194b289e",
   "metadata": {},
   "outputs": [],
   "source": [
    "df[\"num_unspec_stereo\"] = df.ROMol.apply(CalcNumUnspecifiedAtomStereoCenters)"
   ]
  },
  {
   "cell_type": "markdown",
   "id": "4e989d3b-843b-47c8-9c56-3cf3984be7f7",
   "metadata": {},
   "source": [
    "Remove molecules with unspecified stereocenters"
   ]
  },
  {
   "cell_type": "code",
   "execution_count": 5,
   "id": "10328eca-1809-4b26-9f61-a663d8107dcd",
   "metadata": {},
   "outputs": [],
   "source": [
    "df = df.query(\"num_unspec_stereo == 0\")"
   ]
  },
  {
   "cell_type": "markdown",
   "id": "6a2a9a0d-8077-45fd-a9b7-c8eec6a6ded8",
   "metadata": {},
   "source": [
    "As a quick test only use the first 100 rows in the table"
   ]
  },
  {
   "cell_type": "code",
   "execution_count": 6,
   "id": "acd3630c-1b10-4bcb-9afc-ee795f5928e4",
   "metadata": {},
   "outputs": [],
   "source": [
    "df = df.head(100).copy()"
   ]
  },
  {
   "cell_type": "markdown",
   "id": "e661072f-85db-4ce1-a017-22421ed320e4",
   "metadata": {},
   "source": [
    "Initialize ParallelPandas"
   ]
  },
  {
   "cell_type": "code",
   "execution_count": 7,
   "id": "ce971222-2d4c-4cae-94d9-401d85f6dc78",
   "metadata": {},
   "outputs": [],
   "source": [
    "ParallelPandas.initialize(n_cpu=16, split_factor=4, disable_pr_bar=False)"
   ]
  },
  {
   "cell_type": "markdown",
   "id": "f77404c8-e640-4571-880e-2d16ac3a0e4c",
   "metadata": {},
   "source": [
    "Generate conformers "
   ]
  },
  {
   "cell_type": "code",
   "execution_count": 8,
   "id": "4acf587d-6954-4666-8123-14d205bad39c",
   "metadata": {},
   "outputs": [
    {
     "data": {
      "application/vnd.jupyter.widget-view+json": {
       "model_id": "ff94663465dc43a5b1cbec8ca35e0d60",
       "version_major": 2,
       "version_minor": 0
      },
      "text/plain": [
       "GEN_CONFORMERS DONE:   0%|          | 0/100 [00:00<?, ?it/s]"
      ]
     },
     "metadata": {},
     "output_type": "display_data"
    }
   ],
   "source": [
    "df['mol_3d'] = df.ROMol.p_apply(uru.gen_conformers,executor='threads')"
   ]
  },
  {
   "cell_type": "markdown",
   "id": "1b23732d-b95f-4967-a57d-df1e34c0da79",
   "metadata": {},
   "source": [
    "Refine the conformers"
   ]
  },
  {
   "cell_type": "code",
   "execution_count": 9,
   "id": "0117f21f-933e-4126-8ed3-f782d38c2de2",
   "metadata": {},
   "outputs": [
    {
     "data": {
      "application/vnd.jupyter.widget-view+json": {
       "model_id": "5406b5223c8449eaa6e6cabc9bd68d6b",
       "version_major": 2,
       "version_minor": 0
      },
      "text/plain": [
       "REFINE_CONFORMERS DONE:   0%|          | 0/100 [00:00<?, ?it/s]"
      ]
     },
     "metadata": {},
     "output_type": "display_data"
    }
   ],
   "source": [
    "df['refined_mol'] = df.mol_3d.p_apply(uru.refine_conformers,executor='threads')"
   ]
  },
  {
   "cell_type": "markdown",
   "id": "57e9d867-16ae-45a9-b0f4-a1ef5d437a66",
   "metadata": {},
   "source": [
    "Create a new column with conformer energies"
   ]
  },
  {
   "cell_type": "code",
   "execution_count": 11,
   "id": "22dc94f3-293f-473a-93bc-f2298cd79bf7",
   "metadata": {},
   "outputs": [],
   "source": [
    "df['conformer_energies'] = df.refined_mol.apply(uru.get_conformer_energies)"
   ]
  },
  {
   "cell_type": "code",
   "execution_count": 12,
   "id": "e8e7aace-8a65-45da-8fd7-ee73d7579a77",
   "metadata": {},
   "outputs": [
    {
     "data": {
      "text/html": [
       "<div>\n",
       "<style scoped>\n",
       "    .dataframe tbody tr th:only-of-type {\n",
       "        vertical-align: middle;\n",
       "    }\n",
       "\n",
       "    .dataframe tbody tr th {\n",
       "        vertical-align: top;\n",
       "    }\n",
       "\n",
       "    .dataframe thead th {\n",
       "        text-align: right;\n",
       "    }\n",
       "</style>\n",
       "<table border=\"1\" class=\"dataframe\">\n",
       "  <thead>\n",
       "    <tr style=\"text-align: right;\">\n",
       "      <th></th>\n",
       "      <th>Internal ID</th>\n",
       "      <th>Vendor ID</th>\n",
       "      <th>SMILES</th>\n",
       "      <th>CollectionName</th>\n",
       "      <th>LOG HLM_CLint (mL/min/kg)</th>\n",
       "      <th>LOG MDR1-MDCK ER (B-A/A-B)</th>\n",
       "      <th>LOG SOLUBILITY PH 6.8 (ug/mL)</th>\n",
       "      <th>LOG PLASMA PROTEIN BINDING (HUMAN) (% unbound)</th>\n",
       "      <th>LOG PLASMA PROTEIN BINDING (RAT) (% unbound)</th>\n",
       "      <th>LOG RLM_CLint (mL/min/kg)</th>\n",
       "      <th>ROMol</th>\n",
       "      <th>num_unspec_stereo</th>\n",
       "      <th>mol_3d</th>\n",
       "      <th>refined_mol</th>\n",
       "      <th>conformer_energies</th>\n",
       "    </tr>\n",
       "  </thead>\n",
       "  <tbody>\n",
       "    <tr>\n",
       "      <th>0</th>\n",
       "      <td>Mol1</td>\n",
       "      <td>317714313</td>\n",
       "      <td>CNc1cc(Nc2cccn(-c3ccccn3)c2=O)nn2c(C(=O)N[C@@H...</td>\n",
       "      <td>emolecules</td>\n",
       "      <td>0.675687</td>\n",
       "      <td>1.493167</td>\n",
       "      <td>0.089905</td>\n",
       "      <td>0.991226</td>\n",
       "      <td>0.518514</td>\n",
       "      <td>1.392169</td>\n",
       "      <td>&lt;rdkit.Chem.rdchem.Mol object at 0x14c63b370&gt;</td>\n",
       "      <td>0</td>\n",
       "      <td>&lt;rdkit.Chem.rdchem.Mol object at 0x14c5b1c40&gt;</td>\n",
       "      <td>&lt;rdkit.Chem.rdchem.Mol object at 0x14c5b1c40&gt;</td>\n",
       "      <td>[23.61095456920812, 17.25498254011069, 23.6850...</td>\n",
       "    </tr>\n",
       "    <tr>\n",
       "      <th>1</th>\n",
       "      <td>Mol2</td>\n",
       "      <td>324056965</td>\n",
       "      <td>CCOc1cc2nn(CCC(C)(C)O)cc2cc1NC(=O)c1cccc(C(F)F)n1</td>\n",
       "      <td>emolecules</td>\n",
       "      <td>0.675687</td>\n",
       "      <td>1.040780</td>\n",
       "      <td>0.550228</td>\n",
       "      <td>0.099681</td>\n",
       "      <td>0.268344</td>\n",
       "      <td>1.027920</td>\n",
       "      <td>&lt;rdkit.Chem.rdchem.Mol object at 0x14c63b290&gt;</td>\n",
       "      <td>0</td>\n",
       "      <td>&lt;rdkit.Chem.rdchem.Mol object at 0x14c5b0d60&gt;</td>\n",
       "      <td>&lt;rdkit.Chem.rdchem.Mol object at 0x14c5b0d60&gt;</td>\n",
       "      <td>[108.4693175449035, 107.89427179517475, 109.00...</td>\n",
       "    </tr>\n",
       "    <tr>\n",
       "      <th>2</th>\n",
       "      <td>Mol3</td>\n",
       "      <td>304005766</td>\n",
       "      <td>CN(c1ncc(F)cn1)[C@H]1CCCNC1</td>\n",
       "      <td>emolecules</td>\n",
       "      <td>0.675687</td>\n",
       "      <td>-0.358806</td>\n",
       "      <td>NaN</td>\n",
       "      <td>2.000000</td>\n",
       "      <td>2.000000</td>\n",
       "      <td>1.027920</td>\n",
       "      <td>&lt;rdkit.Chem.rdchem.Mol object at 0x14c63b920&gt;</td>\n",
       "      <td>0</td>\n",
       "      <td>&lt;rdkit.Chem.rdchem.Mol object at 0x14c5b1540&gt;</td>\n",
       "      <td>&lt;rdkit.Chem.rdchem.Mol object at 0x14c5b1540&gt;</td>\n",
       "      <td>[-22.374582202915832, -19.78970305836473, -24....</td>\n",
       "    </tr>\n",
       "    <tr>\n",
       "      <th>3</th>\n",
       "      <td>Mol4</td>\n",
       "      <td>194963090</td>\n",
       "      <td>CC(C)(Oc1ccc(-c2cnc(N)c(-c3ccc(Cl)cc3)c2)cc1)C...</td>\n",
       "      <td>emolecules</td>\n",
       "      <td>0.675687</td>\n",
       "      <td>1.026662</td>\n",
       "      <td>1.657056</td>\n",
       "      <td>-1.158015</td>\n",
       "      <td>-1.403403</td>\n",
       "      <td>1.027920</td>\n",
       "      <td>&lt;rdkit.Chem.rdchem.Mol object at 0x14c639620&gt;</td>\n",
       "      <td>0</td>\n",
       "      <td>&lt;rdkit.Chem.rdchem.Mol object at 0x14c5b1a10&gt;</td>\n",
       "      <td>&lt;rdkit.Chem.rdchem.Mol object at 0x14c5b1a10&gt;</td>\n",
       "      <td>[60.357635744770754, 59.14298211709898, 59.271...</td>\n",
       "    </tr>\n",
       "    <tr>\n",
       "      <th>4</th>\n",
       "      <td>Mol5</td>\n",
       "      <td>324059015</td>\n",
       "      <td>CC(C)(O)CCn1cc2cc(NC(=O)c3cccc(C(F)(F)F)n3)c(C...</td>\n",
       "      <td>emolecules</td>\n",
       "      <td>0.996380</td>\n",
       "      <td>1.010597</td>\n",
       "      <td>NaN</td>\n",
       "      <td>1.015611</td>\n",
       "      <td>1.092264</td>\n",
       "      <td>1.629093</td>\n",
       "      <td>&lt;rdkit.Chem.rdchem.Mol object at 0x14c63b140&gt;</td>\n",
       "      <td>0</td>\n",
       "      <td>&lt;rdkit.Chem.rdchem.Mol object at 0x14c5b13f0&gt;</td>\n",
       "      <td>&lt;rdkit.Chem.rdchem.Mol object at 0x14c5b13f0&gt;</td>\n",
       "      <td>[131.88423120779248, 135.87226776550114, 143.4...</td>\n",
       "    </tr>\n",
       "    <tr>\n",
       "      <th>...</th>\n",
       "      <td>...</td>\n",
       "      <td>...</td>\n",
       "      <td>...</td>\n",
       "      <td>...</td>\n",
       "      <td>...</td>\n",
       "      <td>...</td>\n",
       "      <td>...</td>\n",
       "      <td>...</td>\n",
       "      <td>...</td>\n",
       "      <td>...</td>\n",
       "      <td>...</td>\n",
       "      <td>...</td>\n",
       "      <td>...</td>\n",
       "      <td>...</td>\n",
       "      <td>...</td>\n",
       "    </tr>\n",
       "    <tr>\n",
       "      <th>118</th>\n",
       "      <td>Mol119</td>\n",
       "      <td>320368312</td>\n",
       "      <td>O=C(Nc1cnccc1-c1ccc(Cl)cc1)c1ccnc(NC(=O)C2CC2)c1</td>\n",
       "      <td>emolecules</td>\n",
       "      <td>1.479503</td>\n",
       "      <td>0.466764</td>\n",
       "      <td>NaN</td>\n",
       "      <td>0.369958</td>\n",
       "      <td>0.847634</td>\n",
       "      <td>1.880242</td>\n",
       "      <td>&lt;rdkit.Chem.rdchem.Mol object at 0x14c6f1070&gt;</td>\n",
       "      <td>0</td>\n",
       "      <td>&lt;rdkit.Chem.rdchem.Mol object at 0x14c5b11c0&gt;</td>\n",
       "      <td>&lt;rdkit.Chem.rdchem.Mol object at 0x14c5b11c0&gt;</td>\n",
       "      <td>[6.355767722970484, 6.322747028665773, 3.90591...</td>\n",
       "    </tr>\n",
       "    <tr>\n",
       "      <th>119</th>\n",
       "      <td>Mol120</td>\n",
       "      <td>89942274</td>\n",
       "      <td>CN1C(N)=N[C@](C)(c2cc(NC(=O)c3ccc(F)cn3)ccc2F)...</td>\n",
       "      <td>emolecules</td>\n",
       "      <td>0.675687</td>\n",
       "      <td>1.970452</td>\n",
       "      <td>NaN</td>\n",
       "      <td>1.560469</td>\n",
       "      <td>1.491418</td>\n",
       "      <td>1.915521</td>\n",
       "      <td>&lt;rdkit.Chem.rdchem.Mol object at 0x14c6f10e0&gt;</td>\n",
       "      <td>0</td>\n",
       "      <td>&lt;rdkit.Chem.rdchem.Mol object at 0x14c5b04a0&gt;</td>\n",
       "      <td>&lt;rdkit.Chem.rdchem.Mol object at 0x14c5b04a0&gt;</td>\n",
       "      <td>[-130.39511278679078, -130.98718156863282, -13...</td>\n",
       "    </tr>\n",
       "    <tr>\n",
       "      <th>121</th>\n",
       "      <td>Mol122</td>\n",
       "      <td>511449</td>\n",
       "      <td>CCCCNC(=O)NS(=O)(=O)c1ccc(C)cc1</td>\n",
       "      <td>emolecules</td>\n",
       "      <td>0.675687</td>\n",
       "      <td>0.250980</td>\n",
       "      <td>NaN</td>\n",
       "      <td>0.439333</td>\n",
       "      <td>0.440122</td>\n",
       "      <td>1.027920</td>\n",
       "      <td>&lt;rdkit.Chem.rdchem.Mol object at 0x14c6f11c0&gt;</td>\n",
       "      <td>0</td>\n",
       "      <td>&lt;rdkit.Chem.rdchem.Mol object at 0x14c5b0040&gt;</td>\n",
       "      <td>&lt;rdkit.Chem.rdchem.Mol object at 0x14c5b0040&gt;</td>\n",
       "      <td>[-155.11542565057718, -155.07840411273364, -15...</td>\n",
       "    </tr>\n",
       "    <tr>\n",
       "      <th>124</th>\n",
       "      <td>Mol125</td>\n",
       "      <td>139135</td>\n",
       "      <td>CN(C)C(=O)C1(Cc2ccccc2-c2ccccc2)CCN(C(=O)c2cnn...</td>\n",
       "      <td>emolecules</td>\n",
       "      <td>2.666524</td>\n",
       "      <td>1.399850</td>\n",
       "      <td>NaN</td>\n",
       "      <td>1.041353</td>\n",
       "      <td>1.146841</td>\n",
       "      <td>3.097607</td>\n",
       "      <td>&lt;rdkit.Chem.rdchem.Mol object at 0x14c6f1310&gt;</td>\n",
       "      <td>0</td>\n",
       "      <td>&lt;rdkit.Chem.rdchem.Mol object at 0x14c5b2b90&gt;</td>\n",
       "      <td>&lt;rdkit.Chem.rdchem.Mol object at 0x14c5b2b90&gt;</td>\n",
       "      <td>[47.622501864654694, 46.20299877756397, 59.300...</td>\n",
       "    </tr>\n",
       "    <tr>\n",
       "      <th>126</th>\n",
       "      <td>Mol127</td>\n",
       "      <td>49383448</td>\n",
       "      <td>CN1CCN(S(=O)(=O)c2ccc(-c3cnc(N)c(C(=O)Nc4cccnc...</td>\n",
       "      <td>emolecules</td>\n",
       "      <td>2.095079</td>\n",
       "      <td>1.859839</td>\n",
       "      <td>NaN</td>\n",
       "      <td>1.078638</td>\n",
       "      <td>0.915558</td>\n",
       "      <td>2.827400</td>\n",
       "      <td>&lt;rdkit.Chem.rdchem.Mol object at 0x14c6f13f0&gt;</td>\n",
       "      <td>0</td>\n",
       "      <td>&lt;rdkit.Chem.rdchem.Mol object at 0x14c5b0740&gt;</td>\n",
       "      <td>&lt;rdkit.Chem.rdchem.Mol object at 0x14c5b0740&gt;</td>\n",
       "      <td>[166.1787912882976, 157.04222766311764, 158.22...</td>\n",
       "    </tr>\n",
       "  </tbody>\n",
       "</table>\n",
       "<p>100 rows × 15 columns</p>\n",
       "</div>"
      ],
      "text/plain": [
       "    Internal ID  Vendor ID                                             SMILES  \\\n",
       "0          Mol1  317714313  CNc1cc(Nc2cccn(-c3ccccn3)c2=O)nn2c(C(=O)N[C@@H...   \n",
       "1          Mol2  324056965  CCOc1cc2nn(CCC(C)(C)O)cc2cc1NC(=O)c1cccc(C(F)F)n1   \n",
       "2          Mol3  304005766                        CN(c1ncc(F)cn1)[C@H]1CCCNC1   \n",
       "3          Mol4  194963090  CC(C)(Oc1ccc(-c2cnc(N)c(-c3ccc(Cl)cc3)c2)cc1)C...   \n",
       "4          Mol5  324059015  CC(C)(O)CCn1cc2cc(NC(=O)c3cccc(C(F)(F)F)n3)c(C...   \n",
       "..          ...        ...                                                ...   \n",
       "118      Mol119  320368312   O=C(Nc1cnccc1-c1ccc(Cl)cc1)c1ccnc(NC(=O)C2CC2)c1   \n",
       "119      Mol120   89942274  CN1C(N)=N[C@](C)(c2cc(NC(=O)c3ccc(F)cn3)ccc2F)...   \n",
       "121      Mol122     511449                    CCCCNC(=O)NS(=O)(=O)c1ccc(C)cc1   \n",
       "124      Mol125     139135  CN(C)C(=O)C1(Cc2ccccc2-c2ccccc2)CCN(C(=O)c2cnn...   \n",
       "126      Mol127   49383448  CN1CCN(S(=O)(=O)c2ccc(-c3cnc(N)c(C(=O)Nc4cccnc...   \n",
       "\n",
       "    CollectionName  LOG HLM_CLint (mL/min/kg)  LOG MDR1-MDCK ER (B-A/A-B)  \\\n",
       "0       emolecules                   0.675687                    1.493167   \n",
       "1       emolecules                   0.675687                    1.040780   \n",
       "2       emolecules                   0.675687                   -0.358806   \n",
       "3       emolecules                   0.675687                    1.026662   \n",
       "4       emolecules                   0.996380                    1.010597   \n",
       "..             ...                        ...                         ...   \n",
       "118     emolecules                   1.479503                    0.466764   \n",
       "119     emolecules                   0.675687                    1.970452   \n",
       "121     emolecules                   0.675687                    0.250980   \n",
       "124     emolecules                   2.666524                    1.399850   \n",
       "126     emolecules                   2.095079                    1.859839   \n",
       "\n",
       "     LOG SOLUBILITY PH 6.8 (ug/mL)  \\\n",
       "0                         0.089905   \n",
       "1                         0.550228   \n",
       "2                              NaN   \n",
       "3                         1.657056   \n",
       "4                              NaN   \n",
       "..                             ...   \n",
       "118                            NaN   \n",
       "119                            NaN   \n",
       "121                            NaN   \n",
       "124                            NaN   \n",
       "126                            NaN   \n",
       "\n",
       "     LOG PLASMA PROTEIN BINDING (HUMAN) (% unbound)  \\\n",
       "0                                          0.991226   \n",
       "1                                          0.099681   \n",
       "2                                          2.000000   \n",
       "3                                         -1.158015   \n",
       "4                                          1.015611   \n",
       "..                                              ...   \n",
       "118                                        0.369958   \n",
       "119                                        1.560469   \n",
       "121                                        0.439333   \n",
       "124                                        1.041353   \n",
       "126                                        1.078638   \n",
       "\n",
       "     LOG PLASMA PROTEIN BINDING (RAT) (% unbound)  LOG RLM_CLint (mL/min/kg)  \\\n",
       "0                                        0.518514                   1.392169   \n",
       "1                                        0.268344                   1.027920   \n",
       "2                                        2.000000                   1.027920   \n",
       "3                                       -1.403403                   1.027920   \n",
       "4                                        1.092264                   1.629093   \n",
       "..                                            ...                        ...   \n",
       "118                                      0.847634                   1.880242   \n",
       "119                                      1.491418                   1.915521   \n",
       "121                                      0.440122                   1.027920   \n",
       "124                                      1.146841                   3.097607   \n",
       "126                                      0.915558                   2.827400   \n",
       "\n",
       "                                             ROMol  num_unspec_stereo  \\\n",
       "0    <rdkit.Chem.rdchem.Mol object at 0x14c63b370>                  0   \n",
       "1    <rdkit.Chem.rdchem.Mol object at 0x14c63b290>                  0   \n",
       "2    <rdkit.Chem.rdchem.Mol object at 0x14c63b920>                  0   \n",
       "3    <rdkit.Chem.rdchem.Mol object at 0x14c639620>                  0   \n",
       "4    <rdkit.Chem.rdchem.Mol object at 0x14c63b140>                  0   \n",
       "..                                             ...                ...   \n",
       "118  <rdkit.Chem.rdchem.Mol object at 0x14c6f1070>                  0   \n",
       "119  <rdkit.Chem.rdchem.Mol object at 0x14c6f10e0>                  0   \n",
       "121  <rdkit.Chem.rdchem.Mol object at 0x14c6f11c0>                  0   \n",
       "124  <rdkit.Chem.rdchem.Mol object at 0x14c6f1310>                  0   \n",
       "126  <rdkit.Chem.rdchem.Mol object at 0x14c6f13f0>                  0   \n",
       "\n",
       "                                            mol_3d  \\\n",
       "0    <rdkit.Chem.rdchem.Mol object at 0x14c5b1c40>   \n",
       "1    <rdkit.Chem.rdchem.Mol object at 0x14c5b0d60>   \n",
       "2    <rdkit.Chem.rdchem.Mol object at 0x14c5b1540>   \n",
       "3    <rdkit.Chem.rdchem.Mol object at 0x14c5b1a10>   \n",
       "4    <rdkit.Chem.rdchem.Mol object at 0x14c5b13f0>   \n",
       "..                                             ...   \n",
       "118  <rdkit.Chem.rdchem.Mol object at 0x14c5b11c0>   \n",
       "119  <rdkit.Chem.rdchem.Mol object at 0x14c5b04a0>   \n",
       "121  <rdkit.Chem.rdchem.Mol object at 0x14c5b0040>   \n",
       "124  <rdkit.Chem.rdchem.Mol object at 0x14c5b2b90>   \n",
       "126  <rdkit.Chem.rdchem.Mol object at 0x14c5b0740>   \n",
       "\n",
       "                                       refined_mol  \\\n",
       "0    <rdkit.Chem.rdchem.Mol object at 0x14c5b1c40>   \n",
       "1    <rdkit.Chem.rdchem.Mol object at 0x14c5b0d60>   \n",
       "2    <rdkit.Chem.rdchem.Mol object at 0x14c5b1540>   \n",
       "3    <rdkit.Chem.rdchem.Mol object at 0x14c5b1a10>   \n",
       "4    <rdkit.Chem.rdchem.Mol object at 0x14c5b13f0>   \n",
       "..                                             ...   \n",
       "118  <rdkit.Chem.rdchem.Mol object at 0x14c5b11c0>   \n",
       "119  <rdkit.Chem.rdchem.Mol object at 0x14c5b04a0>   \n",
       "121  <rdkit.Chem.rdchem.Mol object at 0x14c5b0040>   \n",
       "124  <rdkit.Chem.rdchem.Mol object at 0x14c5b2b90>   \n",
       "126  <rdkit.Chem.rdchem.Mol object at 0x14c5b0740>   \n",
       "\n",
       "                                    conformer_energies  \n",
       "0    [23.61095456920812, 17.25498254011069, 23.6850...  \n",
       "1    [108.4693175449035, 107.89427179517475, 109.00...  \n",
       "2    [-22.374582202915832, -19.78970305836473, -24....  \n",
       "3    [60.357635744770754, 59.14298211709898, 59.271...  \n",
       "4    [131.88423120779248, 135.87226776550114, 143.4...  \n",
       "..                                                 ...  \n",
       "118  [6.355767722970484, 6.322747028665773, 3.90591...  \n",
       "119  [-130.39511278679078, -130.98718156863282, -13...  \n",
       "121  [-155.11542565057718, -155.07840411273364, -15...  \n",
       "124  [47.622501864654694, 46.20299877756397, 59.300...  \n",
       "126  [166.1787912882976, 157.04222766311764, 158.22...  \n",
       "\n",
       "[100 rows x 15 columns]"
      ]
     },
     "execution_count": 12,
     "metadata": {},
     "output_type": "execute_result"
    }
   ],
   "source": [
    "df"
   ]
  },
  {
   "cell_type": "code",
   "execution_count": null,
   "id": "dfe89204-6cb6-40a6-9d76-8883463c85f8",
   "metadata": {},
   "outputs": [],
   "source": []
  }
 ],
 "metadata": {
  "kernelspec": {
   "display_name": "Python 3 (ipykernel)",
   "language": "python",
   "name": "python3"
  },
  "language_info": {
   "codemirror_mode": {
    "name": "ipython",
    "version": 3
   },
   "file_extension": ".py",
   "mimetype": "text/x-python",
   "name": "python",
   "nbconvert_exporter": "python",
   "pygments_lexer": "ipython3",
   "version": "3.11.11"
  }
 },
 "nbformat": 4,
 "nbformat_minor": 5
}
