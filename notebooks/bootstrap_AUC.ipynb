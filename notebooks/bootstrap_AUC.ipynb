{
 "cells": [
  {
   "cell_type": "markdown",
   "id": "7129e9ea5e9a73ee",
   "metadata": {
    "collapsed": false,
    "jupyter": {
     "outputs_hidden": false
    }
   },
   "source": [
    "A simple notebook demonstrating how to calculate a 95% confidence interval for an AUC "
   ]
  },
  {
   "cell_type": "code",
   "execution_count": 1,
   "id": "ce245b04",
   "metadata": {
    "ExecuteTime": {
     "end_time": "2024-04-07T17:12:09.977098Z",
     "start_time": "2024-04-07T17:12:09.189458Z"
    }
   },
   "outputs": [],
   "source": [
    "import numpy as np\n",
    "import pandas as pd\n",
    "import seaborn as sns\n",
    "import useful_rdkit_utils as uru\n",
    "from lightgbm import LGBMClassifier\n",
    "from rdkit import Chem\n",
    "from sklearn.metrics import roc_auc_score\n",
    "from sklearn.model_selection import train_test_split\n",
    "from sklearn.utils import resample"
   ]
  },
  {
   "cell_type": "markdown",
   "id": "c91dc491",
   "metadata": {},
   "source": [
    "A couple of convenience functions"
   ]
  },
  {
   "cell_type": "code",
   "execution_count": 2,
   "id": "a94bef8a",
   "metadata": {
    "ExecuteTime": {
     "end_time": "2024-04-07T17:19:22.603515Z",
     "start_time": "2024-04-07T17:19:22.595846Z"
    }
   },
   "outputs": [],
   "source": [
    "def smiles_to_molecular_weight(smiles):\n",
    "    mol = Chem.MolFromSmiles(smiles)\n",
    "    return Chem.Descriptors.MolWt(mol)\n",
    "\n",
    "\n",
    "def log_ug_ml_to_logS(ug, molecular_weight):\n",
    "    grams = 10**ug * 1e-6\n",
    "    moles = grams / molecular_weight\n",
    "    return np.log10(moles * 1000)"
   ]
  },
  {
   "cell_type": "markdown",
   "id": "2706abc5",
   "metadata": {},
   "source": [
    "Read the data from [Prospective Validation of Machine Learning Algorithms for Absorption, Distribution, Metabolism, and Excretion Prediction: An Industrial Perspective](http://dx.doi.org/10.1021/acs.jcim.3c00160)"
   ]
  },
  {
   "cell_type": "code",
   "execution_count": 3,
   "id": "e8c0220a",
   "metadata": {
    "ExecuteTime": {
     "end_time": "2024-04-07T17:19:29.917269Z",
     "start_time": "2024-04-07T17:19:29.735452Z"
    }
   },
   "outputs": [],
   "source": [
    "df = pd.read_csv(\"https://raw.githubusercontent.com/molecularinformatics/Computational-ADME/main/ADME_public_set_3521.csv\")"
   ]
  },
  {
   "cell_type": "markdown",
   "id": "cb8d2db7",
   "metadata": {},
   "source": [
    "Extract the solubility data"
   ]
  },
  {
   "cell_type": "code",
   "execution_count": 4,
   "id": "b9bd37ac",
   "metadata": {
    "ExecuteTime": {
     "end_time": "2024-04-07T17:19:31.478655Z",
     "start_time": "2024-04-07T17:19:31.474273Z"
    }
   },
   "outputs": [],
   "source": [
    "sol_df = df.dropna(subset=\"LOG SOLUBILITY PH 6.8 (ug/mL)\")[[\"SMILES\", \"Internal ID\", \"LOG SOLUBILITY PH 6.8 (ug/mL)\"]]\n",
    "sol_df.columns = [\"SMILES\", \"Name\", \"log_sol_ug_ml\"]"
   ]
  },
  {
   "cell_type": "markdown",
   "id": "2dd63e56",
   "metadata": {},
   "source": [
    "Remove data without measured values"
   ]
  },
  {
   "cell_type": "code",
   "execution_count": 5,
   "id": "77cad2fa",
   "metadata": {
    "ExecuteTime": {
     "end_time": "2024-04-07T17:19:33.192093Z",
     "start_time": "2024-04-07T17:19:33.187201Z"
    }
   },
   "outputs": [],
   "source": [
    "sol_df = sol_df.query(\"log_sol_ug_ml > 0\").copy()"
   ]
  },
  {
   "cell_type": "markdown",
   "id": "64731b76",
   "metadata": {},
   "source": [
    "I don't relate to data in ug/ml, so I'm going to convert to the log of molar solubility (logS)"
   ]
  },
  {
   "cell_type": "code",
   "execution_count": 6,
   "id": "78412674",
   "metadata": {
    "ExecuteTime": {
     "end_time": "2024-04-07T17:19:45.909771Z",
     "start_time": "2024-04-07T17:19:45.769494Z"
    }
   },
   "outputs": [],
   "source": [
    "sol_df['mw'] = sol_df.SMILES.apply(smiles_to_molecular_weight)\n",
    "sol_df['logS'] = [log_ug_ml_to_logS(a, b) for a, b in sol_df[[\"log_sol_ug_ml\", \"mw\"]].values]"
   ]
  },
  {
   "cell_type": "code",
   "execution_count": 7,
   "id": "b229d06a",
   "metadata": {
    "ExecuteTime": {
     "end_time": "2024-04-07T17:19:47.822466Z",
     "start_time": "2024-04-07T17:19:47.816954Z"
    }
   },
   "outputs": [
    {
     "data": {
      "text/html": [
       "<div>\n",
       "<style scoped>\n",
       "    .dataframe tbody tr th:only-of-type {\n",
       "        vertical-align: middle;\n",
       "    }\n",
       "\n",
       "    .dataframe tbody tr th {\n",
       "        vertical-align: top;\n",
       "    }\n",
       "\n",
       "    .dataframe thead th {\n",
       "        text-align: right;\n",
       "    }\n",
       "</style>\n",
       "<table border=\"1\" class=\"dataframe\">\n",
       "  <thead>\n",
       "    <tr style=\"text-align: right;\">\n",
       "      <th></th>\n",
       "      <th>SMILES</th>\n",
       "      <th>Name</th>\n",
       "      <th>log_sol_ug_ml</th>\n",
       "      <th>mw</th>\n",
       "      <th>logS</th>\n",
       "    </tr>\n",
       "  </thead>\n",
       "  <tbody>\n",
       "    <tr>\n",
       "      <th>0</th>\n",
       "      <td>CNc1cc(Nc2cccn(-c3ccccn3)c2=O)nn2c(C(=O)N[C@@H...</td>\n",
       "      <td>Mol1</td>\n",
       "      <td>0.089905</td>\n",
       "      <td>434.435</td>\n",
       "      <td>-5.548020</td>\n",
       "    </tr>\n",
       "    <tr>\n",
       "      <th>1</th>\n",
       "      <td>CCOc1cc2nn(CCC(C)(C)O)cc2cc1NC(=O)c1cccc(C(F)F)n1</td>\n",
       "      <td>Mol2</td>\n",
       "      <td>0.550228</td>\n",
       "      <td>418.444</td>\n",
       "      <td>-5.071409</td>\n",
       "    </tr>\n",
       "    <tr>\n",
       "      <th>3</th>\n",
       "      <td>CC(C)(Oc1ccc(-c2cnc(N)c(-c3ccc(Cl)cc3)c2)cc1)C...</td>\n",
       "      <td>Mol4</td>\n",
       "      <td>1.657056</td>\n",
       "      <td>382.847</td>\n",
       "      <td>-3.925969</td>\n",
       "    </tr>\n",
       "    <tr>\n",
       "      <th>5</th>\n",
       "      <td>CC#CC(=O)N[C@H]1CCCN(c2c(F)cc(C(N)=O)c3[nH]c(C...</td>\n",
       "      <td>Mol6</td>\n",
       "      <td>1.033424</td>\n",
       "      <td>370.428</td>\n",
       "      <td>-4.535280</td>\n",
       "    </tr>\n",
       "    <tr>\n",
       "      <th>8</th>\n",
       "      <td>C=CC(=O)N1CCC[C@@H](n2nc(-c3ccc(Oc4ccccc4)cc3)...</td>\n",
       "      <td>Mol9</td>\n",
       "      <td>0.933990</td>\n",
       "      <td>440.507</td>\n",
       "      <td>-4.709963</td>\n",
       "    </tr>\n",
       "  </tbody>\n",
       "</table>\n",
       "</div>"
      ],
      "text/plain": [
       "                                              SMILES  Name  log_sol_ug_ml  \\\n",
       "0  CNc1cc(Nc2cccn(-c3ccccn3)c2=O)nn2c(C(=O)N[C@@H...  Mol1       0.089905   \n",
       "1  CCOc1cc2nn(CCC(C)(C)O)cc2cc1NC(=O)c1cccc(C(F)F)n1  Mol2       0.550228   \n",
       "3  CC(C)(Oc1ccc(-c2cnc(N)c(-c3ccc(Cl)cc3)c2)cc1)C...  Mol4       1.657056   \n",
       "5  CC#CC(=O)N[C@H]1CCCN(c2c(F)cc(C(N)=O)c3[nH]c(C...  Mol6       1.033424   \n",
       "8  C=CC(=O)N1CCC[C@@H](n2nc(-c3ccc(Oc4ccccc4)cc3)...  Mol9       0.933990   \n",
       "\n",
       "        mw      logS  \n",
       "0  434.435 -5.548020  \n",
       "1  418.444 -5.071409  \n",
       "3  382.847 -3.925969  \n",
       "5  370.428 -4.535280  \n",
       "8  440.507 -4.709963  "
      ]
     },
     "execution_count": 7,
     "metadata": {},
     "output_type": "execute_result"
    }
   ],
   "source": [
    "sol_df.head()"
   ]
  },
  {
   "cell_type": "markdown",
   "id": "538c6a65",
   "metadata": {},
   "source": [
    "We'll classify everything with logS > -4 as soluble"
   ]
  },
  {
   "cell_type": "code",
   "execution_count": 8,
   "id": "a5a7110b",
   "metadata": {
    "ExecuteTime": {
     "end_time": "2024-04-07T17:19:50.963633Z",
     "start_time": "2024-04-07T17:19:50.960569Z"
    }
   },
   "outputs": [],
   "source": [
    "sol_df['is_sol'] = sol_df.logS > -4\n",
    "sol_df.is_sol = sol_df.is_sol.astype(int)"
   ]
  },
  {
   "cell_type": "markdown",
   "id": "0feba54e",
   "metadata": {},
   "source": [
    "Plot the distribution"
   ]
  },
  {
   "cell_type": "code",
   "execution_count": 9,
   "id": "0e7b4c46",
   "metadata": {
    "ExecuteTime": {
     "end_time": "2024-04-07T17:19:53.536502Z",
     "start_time": "2024-04-07T17:19:53.317517Z"
    }
   },
   "outputs": [
    {
     "data": {
      "image/png": "[encoded data removed]",
      "text/plain": [
       "<Figure size 558.875x500 with 1 Axes>"
      ]
     },
     "metadata": {},
     "output_type": "display_data"
    }
   ],
   "source": [
    "sns.displot(x=\"logS\", hue=\"is_sol\", data=sol_df);"
   ]
  },
  {
   "cell_type": "markdown",
   "id": "efdd3793",
   "metadata": {},
   "source": [
    "Add a fingerprint to the dataframe"
   ]
  },
  {
   "cell_type": "code",
   "execution_count": 11,
   "id": "486c972f",
   "metadata": {
    "ExecuteTime": {
     "end_time": "2024-04-07T17:20:05.296505Z",
     "start_time": "2024-04-07T17:20:05.062167Z"
    }
   },
   "outputs": [],
   "source": [
    "smi2fp = uru.Smi2Fp()\n",
    "sol_df['fp'] = sol_df.SMILES.apply(smi2fp.get_np)"
   ]
  },
  {
   "cell_type": "markdown",
   "id": "14c0b08b",
   "metadata": {},
   "source": [
    "Split into training and test"
   ]
  },
  {
   "cell_type": "code",
   "execution_count": 12,
   "id": "546b4800",
   "metadata": {
    "ExecuteTime": {
     "end_time": "2024-04-07T17:20:13.047936Z",
     "start_time": "2024-04-07T17:20:13.040781Z"
    }
   },
   "outputs": [],
   "source": [
    "train, test = train_test_split(sol_df)"
   ]
  },
  {
   "cell_type": "markdown",
   "id": "91387aab",
   "metadata": {},
   "source": [
    "Train the model"
   ]
  },
  {
   "cell_type": "code",
   "execution_count": 15,
   "id": "c7e7e75b",
   "metadata": {
    "ExecuteTime": {
     "end_time": "2024-04-07T17:20:15.237473Z",
     "start_time": "2024-04-07T17:20:15.235655Z"
    }
   },
   "outputs": [],
   "source": [
    "cls = LGBMClassifier(verbose=-1)"
   ]
  },
  {
   "cell_type": "code",
   "execution_count": 16,
   "id": "ccbbdef8",
   "metadata": {
    "ExecuteTime": {
     "end_time": "2024-04-07T17:20:19.590310Z",
     "start_time": "2024-04-07T17:20:16.670166Z"
    }
   },
   "outputs": [
    {
     "data": {
      "text/html": [
       "<style>#sk-container-id-2 {color: black;background-color: white;}#sk-container-id-2 pre{padding: 0;}#sk-container-id-2 div.sk-toggleable {background-color: white;}#sk-container-id-2 label.sk-toggleable__label {cursor: pointer;display: block;width: 100%;margin-bottom: 0;padding: 0.3em;box-sizing: border-box;text-align: center;}#sk-container-id-2 label.sk-toggleable__label-arrow:before {content: \"▸\";float: left;margin-right: 0.25em;color: #696969;}#sk-container-id-2 label.sk-toggleable__label-arrow:hover:before {color: black;}#sk-container-id-2 div.sk-estimator:hover label.sk-toggleable__label-arrow:before {color: black;}#sk-container-id-2 div.sk-toggleable__content {max-height: 0;max-width: 0;overflow: hidden;text-align: left;background-color: #f0f8ff;}#sk-container-id-2 div.sk-toggleable__content pre {margin: 0.2em;color: black;border-radius: 0.25em;background-color: #f0f8ff;}#sk-container-id-2 input.sk-toggleable__control:checked~div.sk-toggleable__content {max-height: 200px;max-width: 100%;overflow: auto;}#sk-container-id-2 input.sk-toggleable__control:checked~label.sk-toggleable__label-arrow:before {content: \"▾\";}#sk-container-id-2 div.sk-estimator input.sk-toggleable__control:checked~label.sk-toggleable__label {background-color: #d4ebff;}#sk-container-id-2 div.sk-label input.sk-toggleable__control:checked~label.sk-toggleable__label {background-color: #d4ebff;}#sk-container-id-2 input.sk-hidden--visually {border: 0;clip: rect(1px 1px 1px 1px);clip: rect(1px, 1px, 1px, 1px);height: 1px;margin: -1px;overflow: hidden;padding: 0;position: absolute;width: 1px;}#sk-container-id-2 div.sk-estimator {font-family: monospace;background-color: #f0f8ff;border: 1px dotted black;border-radius: 0.25em;box-sizing: border-box;margin-bottom: 0.5em;}#sk-container-id-2 div.sk-estimator:hover {background-color: #d4ebff;}#sk-container-id-2 div.sk-parallel-item::after {content: \"\";width: 100%;border-bottom: 1px solid gray;flex-grow: 1;}#sk-container-id-2 div.sk-label:hover label.sk-toggleable__label {background-color: #d4ebff;}#sk-container-id-2 div.sk-serial::before {content: \"\";position: absolute;border-left: 1px solid gray;box-sizing: border-box;top: 0;bottom: 0;left: 50%;z-index: 0;}#sk-container-id-2 div.sk-serial {display: flex;flex-direction: column;align-items: center;background-color: white;padding-right: 0.2em;padding-left: 0.2em;position: relative;}#sk-container-id-2 div.sk-item {position: relative;z-index: 1;}#sk-container-id-2 div.sk-parallel {display: flex;align-items: stretch;justify-content: center;background-color: white;position: relative;}#sk-container-id-2 div.sk-item::before, #sk-container-id-2 div.sk-parallel-item::before {content: \"\";position: absolute;border-left: 1px solid gray;box-sizing: border-box;top: 0;bottom: 0;left: 50%;z-index: -1;}#sk-container-id-2 div.sk-parallel-item {display: flex;flex-direction: column;z-index: 1;position: relative;background-color: white;}#sk-container-id-2 div.sk-parallel-item:first-child::after {align-self: flex-end;width: 50%;}#sk-container-id-2 div.sk-parallel-item:last-child::after {align-self: flex-start;width: 50%;}#sk-container-id-2 div.sk-parallel-item:only-child::after {width: 0;}#sk-container-id-2 div.sk-dashed-wrapped {border: 1px dashed gray;margin: 0 0.4em 0.5em 0.4em;box-sizing: border-box;padding-bottom: 0.4em;background-color: white;}#sk-container-id-2 div.sk-label label {font-family: monospace;font-weight: bold;display: inline-block;line-height: 1.2em;}#sk-container-id-2 div.sk-label-container {text-align: center;}#sk-container-id-2 div.sk-container {/* jupyter's `normalize.less` sets `[hidden] { display: none; }` but bootstrap.min.css set `[hidden] { display: none !important; }` so we also need the `!important` here to be able to override the default hidden behavior on the sphinx rendered scikit-learn.org. See: https://github.com/scikit-learn/scikit-learn/issues/21755 */display: inline-block !important;position: relative;}#sk-container-id-2 div.sk-text-repr-fallback {display: none;}</style><div id=\"sk-container-id-2\" class=\"sk-top-container\"><div class=\"sk-text-repr-fallback\"><pre>LGBMClassifier(verbose=-1)</pre><b>In a Jupyter environment, please rerun this cell to show the HTML representation or trust the notebook. <br />On GitHub, the HTML representation is unable to render, please try loading this page with nbviewer.org.</b></div><div class=\"sk-container\" hidden><div class=\"sk-item\"><div class=\"sk-estimator sk-toggleable\"><input class=\"sk-toggleable__control sk-hidden--visually\" id=\"sk-estimator-id-2\" type=\"checkbox\" checked><label for=\"sk-estimator-id-2\" class=\"sk-toggleable__label sk-toggleable__label-arrow\">LGBMClassifier</label><div class=\"sk-toggleable__content\"><pre>LGBMClassifier(verbose=-1)</pre></div></div></div></div></div>"
      ],
      "text/plain": [
       "LGBMClassifier(verbose=-1)"
      ]
     },
     "execution_count": 16,
     "metadata": {},
     "output_type": "execute_result"
    }
   ],
   "source": [
    "cls.fit(np.stack(train.fp), train.is_sol)"
   ]
  },
  {
   "cell_type": "markdown",
   "id": "79db6d38",
   "metadata": {},
   "source": [
    "Predict the test set"
   ]
  },
  {
   "cell_type": "code",
   "execution_count": 17,
   "id": "dbe15e18",
   "metadata": {
    "ExecuteTime": {
     "end_time": "2024-04-07T17:20:22.583512Z",
     "start_time": "2024-04-07T17:20:21.791372Z"
    }
   },
   "outputs": [],
   "source": [
    "pred_vals = cls.predict_proba(np.stack(test.fp))[:, 1]"
   ]
  },
  {
   "cell_type": "markdown",
   "id": "fd66b359",
   "metadata": {},
   "source": [
    "Calculate the AUC"
   ]
  },
  {
   "cell_type": "code",
   "execution_count": 18,
   "id": "14e0bf4e",
   "metadata": {
    "ExecuteTime": {
     "end_time": "2024-04-07T17:20:24.726138Z",
     "start_time": "2024-04-07T17:20:24.719026Z"
    }
   },
   "outputs": [
    {
     "data": {
      "text/plain": [
       "0.7537309497442388"
      ]
     },
     "execution_count": 18,
     "metadata": {},
     "output_type": "execute_result"
    }
   ],
   "source": [
    "roc_auc_score(test.is_sol, pred_vals)"
   ]
  },
  {
   "cell_type": "markdown",
   "id": "30fd3af6",
   "metadata": {},
   "source": [
    "Define a function to bootstrap a 95% confidence interval for the AUC"
   ]
  },
  {
   "cell_type": "code",
   "execution_count": 19,
   "id": "3a5c4c57",
   "metadata": {
    "ExecuteTime": {
     "end_time": "2024-04-07T17:20:29.358142Z",
     "start_time": "2024-04-07T17:20:29.352910Z"
    }
   },
   "outputs": [],
   "source": [
    "def bootstrap_AUC(truth, pred, num_iterations=1000):\n",
    "    \"\"\" Calculate the 95% confidence interval (CI) for an AUC\n",
    "    :param truth: the true values\n",
    "    :param pred: the predicted values\n",
    "    :param num_iterations: number of bootstrap iterations\n",
    "    :return: 95% CI lower bound, AUC, 95% CI upper bound\n",
    "    \"\"\"\n",
    "    result_df = pd.DataFrame({\"truth\": truth, \"pred\": pred})\n",
    "    auc_val = roc_auc_score(truth, pred)\n",
    "    auc_list = []\n",
    "    for _ in range(0, num_iterations):\n",
    "        sample_df = resample(result_df)\n",
    "        auc_list.append(roc_auc_score(sample_df.truth, sample_df.pred))\n",
    "    return np.percentile(auc_list, 2.5), auc_val, np.percentile(auc_list, 97.5)"
   ]
  },
  {
   "cell_type": "code",
   "execution_count": 20,
   "id": "43613027",
   "metadata": {
    "ExecuteTime": {
     "end_time": "2024-04-07T17:20:32.390619Z",
     "start_time": "2024-04-07T17:20:31.743195Z"
    }
   },
   "outputs": [
    {
     "data": {
      "text/plain": [
       "(0.7086174599074482, 0.7537309497442388, 0.7959183673469388)"
      ]
     },
     "execution_count": 20,
     "metadata": {},
     "output_type": "execute_result"
    }
   ],
   "source": [
    "bootstrap_AUC(test.is_sol, pred_vals)"
   ]
  },
  {
   "cell_type": "code",
   "execution_count": null,
   "id": "93cd6b11",
   "metadata": {},
   "outputs": [],
   "source": []
  }
 ],
 "metadata": {
  "kernelspec": {
   "display_name": "Python 3 (ipykernel)",
   "language": "python",
   "name": "python3"
  },
  "language_info": {
   "codemirror_mode": {
    "name": "ipython",
    "version": 3
   },
   "file_extension": ".py",
   "mimetype": "text/x-python",
   "name": "python",
   "nbconvert_exporter": "python",
   "pygments_lexer": "ipython3",
   "version": "3.11.11"
  }
 },
 "nbformat": 4,
 "nbformat_minor": 5
}
